{
 "cells": [
  {
   "cell_type": "code",
   "execution_count": 1,
   "id": "ed0bc9ef",
   "metadata": {},
   "outputs": [],
   "source": [
    "import matplotlib.pyplot as plt, seaborn as sns\n",
    "import numpy as np\n",
    "import pandas as pd\n",
    "import pandas as pd\n",
    "import plotly.express as px\n",
    "from itertools import combinations\n"
   ]
  },
  {
   "cell_type": "code",
   "execution_count": 4,
   "id": "bcdbca7c",
   "metadata": {},
   "outputs": [
    {
     "data": {
      "text/html": [
       "<div>\n",
       "<style scoped>\n",
       "    .dataframe tbody tr th:only-of-type {\n",
       "        vertical-align: middle;\n",
       "    }\n",
       "\n",
       "    .dataframe tbody tr th {\n",
       "        vertical-align: top;\n",
       "    }\n",
       "\n",
       "    .dataframe thead th {\n",
       "        text-align: right;\n",
       "    }\n",
       "</style>\n",
       "<table border=\"1\" class=\"dataframe\">\n",
       "  <thead>\n",
       "    <tr style=\"text-align: right;\">\n",
       "      <th></th>\n",
       "      <th>Optimization_Objective</th>\n",
       "      <th>Economic_System_Cost_GBP</th>\n",
       "      <th>Installed_AC_MW</th>\n",
       "      <th>Installed_hydroelectric_ph_MW</th>\n",
       "      <th>Installed_offwind_MW</th>\n",
       "      <th>Installed_onwind_MW</th>\n",
       "      <th>Fixed_Capacity_DSR_MW</th>\n",
       "      <th>Fixed_Capacity_load_shed_MW</th>\n",
       "      <th>Total_Generation_MWh</th>\n",
       "      <th>Gen_DSR_%</th>\n",
       "      <th>...</th>\n",
       "      <th>Curtailment_('Generator', 'DSR')_MWh</th>\n",
       "      <th>Curtailment_('StorageUnit', 'DSR')_MWh</th>\n",
       "      <th>Curtailment_('Generator', 'load_shed')_MWh</th>\n",
       "      <th>Curtailment_('StorageUnit', 'load_shed')_MWh</th>\n",
       "      <th>Curtailment_('Generator', 'AC')_MWh</th>\n",
       "      <th>Curtailment_('StorageUnit', 'AC')_MWh</th>\n",
       "      <th>sweep_variable</th>\n",
       "      <th>primary_weight</th>\n",
       "      <th>Installed_battery_MW</th>\n",
       "      <th>Installed_tidal_MW</th>\n",
       "    </tr>\n",
       "    <tr>\n",
       "      <th>Scenario</th>\n",
       "      <th></th>\n",
       "      <th></th>\n",
       "      <th></th>\n",
       "      <th></th>\n",
       "      <th></th>\n",
       "      <th></th>\n",
       "      <th></th>\n",
       "      <th></th>\n",
       "      <th></th>\n",
       "      <th></th>\n",
       "      <th></th>\n",
       "      <th></th>\n",
       "      <th></th>\n",
       "      <th></th>\n",
       "      <th></th>\n",
       "      <th></th>\n",
       "      <th></th>\n",
       "      <th></th>\n",
       "      <th></th>\n",
       "      <th></th>\n",
       "      <th></th>\n",
       "    </tr>\n",
       "  </thead>\n",
       "  <tbody>\n",
       "    <tr>\n",
       "      <th>Economic_Baseline</th>\n",
       "      <td>4.550428e+11</td>\n",
       "      <td>3.392081e+10</td>\n",
       "      <td>242157.561670</td>\n",
       "      <td>71479.031221</td>\n",
       "      <td>88659.662520</td>\n",
       "      <td>98892.680306</td>\n",
       "      <td>8930.0</td>\n",
       "      <td>45000.0</td>\n",
       "      <td>3.535099e+08</td>\n",
       "      <td>0.161670</td>\n",
       "      <td>...</td>\n",
       "      <td>0</td>\n",
       "      <td>7.375137e+07</td>\n",
       "      <td>394200000.0</td>\n",
       "      <td>0</td>\n",
       "      <td>0</td>\n",
       "      <td>0</td>\n",
       "      <td>Economic_Baseline</td>\n",
       "      <td>0</td>\n",
       "      <td>0.000000e+00</td>\n",
       "      <td>0.000000</td>\n",
       "    </tr>\n",
       "    <tr>\n",
       "      <th>Sweep_ghg_w0</th>\n",
       "      <td>1.600148e+13</td>\n",
       "      <td>5.387530e+10</td>\n",
       "      <td>134675.872898</td>\n",
       "      <td>0.000000</td>\n",
       "      <td>109432.858059</td>\n",
       "      <td>4507.692048</td>\n",
       "      <td>8930.0</td>\n",
       "      <td>45000.0</td>\n",
       "      <td>3.600359e+08</td>\n",
       "      <td>0.014882</td>\n",
       "      <td>...</td>\n",
       "      <td>0</td>\n",
       "      <td>7.327475e+07</td>\n",
       "      <td>394200000.0</td>\n",
       "      <td>0</td>\n",
       "      <td>0</td>\n",
       "      <td>0</td>\n",
       "      <td>ghg</td>\n",
       "      <td>0</td>\n",
       "      <td>6.841138e+05</td>\n",
       "      <td>19433.224441</td>\n",
       "    </tr>\n",
       "    <tr>\n",
       "      <th>Sweep_ghg_w50</th>\n",
       "      <td>1.486451e+13</td>\n",
       "      <td>3.417059e+10</td>\n",
       "      <td>242633.324785</td>\n",
       "      <td>67604.384028</td>\n",
       "      <td>130932.856569</td>\n",
       "      <td>46223.798303</td>\n",
       "      <td>8930.0</td>\n",
       "      <td>45000.0</td>\n",
       "      <td>3.516079e+08</td>\n",
       "      <td>0.030477</td>\n",
       "      <td>...</td>\n",
       "      <td>0</td>\n",
       "      <td>7.332405e+07</td>\n",
       "      <td>394200000.0</td>\n",
       "      <td>0</td>\n",
       "      <td>0</td>\n",
       "      <td>0</td>\n",
       "      <td>ghg</td>\n",
       "      <td>50</td>\n",
       "      <td>0.000000e+00</td>\n",
       "      <td>0.000000</td>\n",
       "    </tr>\n",
       "    <tr>\n",
       "      <th>Sweep_ghg_w100</th>\n",
       "      <td>8.670048e+12</td>\n",
       "      <td>3.605941e+10</td>\n",
       "      <td>276595.040404</td>\n",
       "      <td>64302.389452</td>\n",
       "      <td>17666.090292</td>\n",
       "      <td>236673.933831</td>\n",
       "      <td>8930.0</td>\n",
       "      <td>45000.0</td>\n",
       "      <td>3.558968e+08</td>\n",
       "      <td>0.175641</td>\n",
       "      <td>...</td>\n",
       "      <td>0</td>\n",
       "      <td>7.380084e+07</td>\n",
       "      <td>394200000.0</td>\n",
       "      <td>0</td>\n",
       "      <td>0</td>\n",
       "      <td>0</td>\n",
       "      <td>ghg</td>\n",
       "      <td>100</td>\n",
       "      <td>0.000000e+00</td>\n",
       "      <td>0.000000</td>\n",
       "    </tr>\n",
       "    <tr>\n",
       "      <th>Sweep_biodiversity &amp; noise_w0</th>\n",
       "      <td>1.813646e+13</td>\n",
       "      <td>4.323631e+10</td>\n",
       "      <td>165745.917026</td>\n",
       "      <td>39332.181328</td>\n",
       "      <td>103258.108572</td>\n",
       "      <td>11025.110260</td>\n",
       "      <td>8930.0</td>\n",
       "      <td>45000.0</td>\n",
       "      <td>3.583345e+08</td>\n",
       "      <td>0.024523</td>\n",
       "      <td>...</td>\n",
       "      <td>0</td>\n",
       "      <td>7.330762e+07</td>\n",
       "      <td>394200000.0</td>\n",
       "      <td>0</td>\n",
       "      <td>0</td>\n",
       "      <td>0</td>\n",
       "      <td>biodiversity &amp; noise</td>\n",
       "      <td>0</td>\n",
       "      <td>2.725909e+05</td>\n",
       "      <td>25438.401580</td>\n",
       "    </tr>\n",
       "    <tr>\n",
       "      <th>Sweep_biodiversity &amp; noise_w50</th>\n",
       "      <td>1.362870e+13</td>\n",
       "      <td>4.699291e+10</td>\n",
       "      <td>132054.685248</td>\n",
       "      <td>0.000000</td>\n",
       "      <td>143289.947003</td>\n",
       "      <td>15395.772637</td>\n",
       "      <td>8930.0</td>\n",
       "      <td>45000.0</td>\n",
       "      <td>3.583327e+08</td>\n",
       "      <td>0.019937</td>\n",
       "      <td>...</td>\n",
       "      <td>0</td>\n",
       "      <td>7.329118e+07</td>\n",
       "      <td>394200000.0</td>\n",
       "      <td>0</td>\n",
       "      <td>0</td>\n",
       "      <td>0</td>\n",
       "      <td>biodiversity &amp; noise</td>\n",
       "      <td>50</td>\n",
       "      <td>5.681822e+05</td>\n",
       "      <td>0.000000</td>\n",
       "    </tr>\n",
       "    <tr>\n",
       "      <th>Sweep_biodiversity &amp; noise_w100</th>\n",
       "      <td>8.044059e+12</td>\n",
       "      <td>4.901648e+10</td>\n",
       "      <td>180307.558569</td>\n",
       "      <td>0.000000</td>\n",
       "      <td>105489.966215</td>\n",
       "      <td>61264.793202</td>\n",
       "      <td>8930.0</td>\n",
       "      <td>45000.0</td>\n",
       "      <td>3.571717e+08</td>\n",
       "      <td>0.019603</td>\n",
       "      <td>...</td>\n",
       "      <td>0</td>\n",
       "      <td>7.329118e+07</td>\n",
       "      <td>394200000.0</td>\n",
       "      <td>0</td>\n",
       "      <td>0</td>\n",
       "      <td>0</td>\n",
       "      <td>biodiversity &amp; noise</td>\n",
       "      <td>100</td>\n",
       "      <td>6.240263e+05</td>\n",
       "      <td>0.000000</td>\n",
       "    </tr>\n",
       "    <tr>\n",
       "      <th>Sweep_land use_w0</th>\n",
       "      <td>1.576952e+13</td>\n",
       "      <td>3.547570e+10</td>\n",
       "      <td>242349.118727</td>\n",
       "      <td>87788.553578</td>\n",
       "      <td>81841.125949</td>\n",
       "      <td>75154.626045</td>\n",
       "      <td>8930.0</td>\n",
       "      <td>45000.0</td>\n",
       "      <td>3.540544e+08</td>\n",
       "      <td>0.020178</td>\n",
       "      <td>...</td>\n",
       "      <td>0</td>\n",
       "      <td>7.329118e+07</td>\n",
       "      <td>394200000.0</td>\n",
       "      <td>0</td>\n",
       "      <td>0</td>\n",
       "      <td>0</td>\n",
       "      <td>land use</td>\n",
       "      <td>0</td>\n",
       "      <td>8.990695e+03</td>\n",
       "      <td>4494.192362</td>\n",
       "    </tr>\n",
       "    <tr>\n",
       "      <th>Sweep_land use_w50</th>\n",
       "      <td>1.548317e+13</td>\n",
       "      <td>4.834148e+10</td>\n",
       "      <td>148501.038167</td>\n",
       "      <td>0.000000</td>\n",
       "      <td>146942.183683</td>\n",
       "      <td>0.000000</td>\n",
       "      <td>8930.0</td>\n",
       "      <td>45000.0</td>\n",
       "      <td>3.594170e+08</td>\n",
       "      <td>0.019877</td>\n",
       "      <td>...</td>\n",
       "      <td>0</td>\n",
       "      <td>7.329118e+07</td>\n",
       "      <td>394200000.0</td>\n",
       "      <td>0</td>\n",
       "      <td>0</td>\n",
       "      <td>0</td>\n",
       "      <td>land use</td>\n",
       "      <td>50</td>\n",
       "      <td>5.748241e+05</td>\n",
       "      <td>4982.311894</td>\n",
       "    </tr>\n",
       "    <tr>\n",
       "      <th>Sweep_land use_w100</th>\n",
       "      <td>1.268480e+13</td>\n",
       "      <td>4.841305e+10</td>\n",
       "      <td>182830.084243</td>\n",
       "      <td>0.000000</td>\n",
       "      <td>144291.239568</td>\n",
       "      <td>0.000000</td>\n",
       "      <td>8930.0</td>\n",
       "      <td>45000.0</td>\n",
       "      <td>3.512706e+08</td>\n",
       "      <td>0.020338</td>\n",
       "      <td>...</td>\n",
       "      <td>0</td>\n",
       "      <td>7.329118e+07</td>\n",
       "      <td>394200000.0</td>\n",
       "      <td>0</td>\n",
       "      <td>0</td>\n",
       "      <td>0</td>\n",
       "      <td>land use</td>\n",
       "      <td>100</td>\n",
       "      <td>4.361912e+05</td>\n",
       "      <td>23587.470948</td>\n",
       "    </tr>\n",
       "    <tr>\n",
       "      <th>Sweep_grid upgrades_w0</th>\n",
       "      <td>1.506236e+13</td>\n",
       "      <td>4.744010e+10</td>\n",
       "      <td>138427.406585</td>\n",
       "      <td>0.000000</td>\n",
       "      <td>157759.517427</td>\n",
       "      <td>0.000000</td>\n",
       "      <td>8930.0</td>\n",
       "      <td>45000.0</td>\n",
       "      <td>3.593738e+08</td>\n",
       "      <td>0.024849</td>\n",
       "      <td>...</td>\n",
       "      <td>0</td>\n",
       "      <td>7.330762e+07</td>\n",
       "      <td>394200000.0</td>\n",
       "      <td>0</td>\n",
       "      <td>0</td>\n",
       "      <td>0</td>\n",
       "      <td>grid upgrades</td>\n",
       "      <td>0</td>\n",
       "      <td>5.632709e+05</td>\n",
       "      <td>197.709534</td>\n",
       "    </tr>\n",
       "    <tr>\n",
       "      <th>Sweep_grid upgrades_w50</th>\n",
       "      <td>1.852935e+13</td>\n",
       "      <td>5.325274e+10</td>\n",
       "      <td>144361.054067</td>\n",
       "      <td>0.000000</td>\n",
       "      <td>92655.349696</td>\n",
       "      <td>26203.806140</td>\n",
       "      <td>8930.0</td>\n",
       "      <td>45000.0</td>\n",
       "      <td>3.587773e+08</td>\n",
       "      <td>0.018307</td>\n",
       "      <td>...</td>\n",
       "      <td>0</td>\n",
       "      <td>7.328719e+07</td>\n",
       "      <td>394200000.0</td>\n",
       "      <td>0</td>\n",
       "      <td>0</td>\n",
       "      <td>0</td>\n",
       "      <td>grid upgrades</td>\n",
       "      <td>50</td>\n",
       "      <td>6.793685e+05</td>\n",
       "      <td>18928.737240</td>\n",
       "    </tr>\n",
       "    <tr>\n",
       "      <th>Sweep_grid upgrades_w100</th>\n",
       "      <td>1.983490e+13</td>\n",
       "      <td>6.945461e+10</td>\n",
       "      <td>191668.188037</td>\n",
       "      <td>0.000000</td>\n",
       "      <td>27140.556780</td>\n",
       "      <td>78761.417613</td>\n",
       "      <td>8930.0</td>\n",
       "      <td>45000.0</td>\n",
       "      <td>3.633766e+08</td>\n",
       "      <td>0.039670</td>\n",
       "      <td>...</td>\n",
       "      <td>0</td>\n",
       "      <td>7.336532e+07</td>\n",
       "      <td>394200000.0</td>\n",
       "      <td>0</td>\n",
       "      <td>0</td>\n",
       "      <td>0</td>\n",
       "      <td>grid upgrades</td>\n",
       "      <td>100</td>\n",
       "      <td>1.001003e+06</td>\n",
       "      <td>33047.738645</td>\n",
       "    </tr>\n",
       "    <tr>\n",
       "      <th>Sweep_reliability_w0</th>\n",
       "      <td>1.585093e+13</td>\n",
       "      <td>4.701303e+10</td>\n",
       "      <td>134655.098882</td>\n",
       "      <td>0.000000</td>\n",
       "      <td>143602.603567</td>\n",
       "      <td>14767.357682</td>\n",
       "      <td>8930.0</td>\n",
       "      <td>45000.0</td>\n",
       "      <td>3.584982e+08</td>\n",
       "      <td>0.024909</td>\n",
       "      <td>...</td>\n",
       "      <td>0</td>\n",
       "      <td>7.330762e+07</td>\n",
       "      <td>394200000.0</td>\n",
       "      <td>0</td>\n",
       "      <td>0</td>\n",
       "      <td>0</td>\n",
       "      <td>reliability</td>\n",
       "      <td>0</td>\n",
       "      <td>5.672262e+05</td>\n",
       "      <td>156.074002</td>\n",
       "    </tr>\n",
       "    <tr>\n",
       "      <th>Sweep_reliability_w50</th>\n",
       "      <td>1.684454e+13</td>\n",
       "      <td>4.425298e+10</td>\n",
       "      <td>187407.101593</td>\n",
       "      <td>59783.942326</td>\n",
       "      <td>89881.267972</td>\n",
       "      <td>11025.110260</td>\n",
       "      <td>8930.0</td>\n",
       "      <td>45000.0</td>\n",
       "      <td>3.616266e+08</td>\n",
       "      <td>0.019755</td>\n",
       "      <td>...</td>\n",
       "      <td>0</td>\n",
       "      <td>7.329118e+07</td>\n",
       "      <td>394200000.0</td>\n",
       "      <td>0</td>\n",
       "      <td>0</td>\n",
       "      <td>0</td>\n",
       "      <td>reliability</td>\n",
       "      <td>50</td>\n",
       "      <td>2.198693e+05</td>\n",
       "      <td>29481.307005</td>\n",
       "    </tr>\n",
       "    <tr>\n",
       "      <th>Sweep_reliability_w100</th>\n",
       "      <td>1.010082e+13</td>\n",
       "      <td>7.993916e+10</td>\n",
       "      <td>334778.240754</td>\n",
       "      <td>224486.888320</td>\n",
       "      <td>18201.788425</td>\n",
       "      <td>0.000000</td>\n",
       "      <td>8930.0</td>\n",
       "      <td>45000.0</td>\n",
       "      <td>4.156417e+08</td>\n",
       "      <td>0.180473</td>\n",
       "      <td>...</td>\n",
       "      <td>0</td>\n",
       "      <td>7.391573e+07</td>\n",
       "      <td>394200000.0</td>\n",
       "      <td>0</td>\n",
       "      <td>0</td>\n",
       "      <td>0</td>\n",
       "      <td>reliability</td>\n",
       "      <td>100</td>\n",
       "      <td>7.122967e+02</td>\n",
       "      <td>94414.584056</td>\n",
       "    </tr>\n",
       "  </tbody>\n",
       "</table>\n",
       "<p>16 rows × 37 columns</p>\n",
       "</div>"
      ],
      "text/plain": [
       "                                 Optimization_Objective  \\\n",
       "Scenario                                                  \n",
       "Economic_Baseline                          4.550428e+11   \n",
       "Sweep_ghg_w0                               1.600148e+13   \n",
       "Sweep_ghg_w50                              1.486451e+13   \n",
       "Sweep_ghg_w100                             8.670048e+12   \n",
       "Sweep_biodiversity & noise_w0              1.813646e+13   \n",
       "Sweep_biodiversity & noise_w50             1.362870e+13   \n",
       "Sweep_biodiversity & noise_w100            8.044059e+12   \n",
       "Sweep_land use_w0                          1.576952e+13   \n",
       "Sweep_land use_w50                         1.548317e+13   \n",
       "Sweep_land use_w100                        1.268480e+13   \n",
       "Sweep_grid upgrades_w0                     1.506236e+13   \n",
       "Sweep_grid upgrades_w50                    1.852935e+13   \n",
       "Sweep_grid upgrades_w100                   1.983490e+13   \n",
       "Sweep_reliability_w0                       1.585093e+13   \n",
       "Sweep_reliability_w50                      1.684454e+13   \n",
       "Sweep_reliability_w100                     1.010082e+13   \n",
       "\n",
       "                                 Economic_System_Cost_GBP  Installed_AC_MW  \\\n",
       "Scenario                                                                     \n",
       "Economic_Baseline                            3.392081e+10    242157.561670   \n",
       "Sweep_ghg_w0                                 5.387530e+10    134675.872898   \n",
       "Sweep_ghg_w50                                3.417059e+10    242633.324785   \n",
       "Sweep_ghg_w100                               3.605941e+10    276595.040404   \n",
       "Sweep_biodiversity & noise_w0                4.323631e+10    165745.917026   \n",
       "Sweep_biodiversity & noise_w50               4.699291e+10    132054.685248   \n",
       "Sweep_biodiversity & noise_w100              4.901648e+10    180307.558569   \n",
       "Sweep_land use_w0                            3.547570e+10    242349.118727   \n",
       "Sweep_land use_w50                           4.834148e+10    148501.038167   \n",
       "Sweep_land use_w100                          4.841305e+10    182830.084243   \n",
       "Sweep_grid upgrades_w0                       4.744010e+10    138427.406585   \n",
       "Sweep_grid upgrades_w50                      5.325274e+10    144361.054067   \n",
       "Sweep_grid upgrades_w100                     6.945461e+10    191668.188037   \n",
       "Sweep_reliability_w0                         4.701303e+10    134655.098882   \n",
       "Sweep_reliability_w50                        4.425298e+10    187407.101593   \n",
       "Sweep_reliability_w100                       7.993916e+10    334778.240754   \n",
       "\n",
       "                                 Installed_hydroelectric_ph_MW  \\\n",
       "Scenario                                                         \n",
       "Economic_Baseline                                 71479.031221   \n",
       "Sweep_ghg_w0                                          0.000000   \n",
       "Sweep_ghg_w50                                     67604.384028   \n",
       "Sweep_ghg_w100                                    64302.389452   \n",
       "Sweep_biodiversity & noise_w0                     39332.181328   \n",
       "Sweep_biodiversity & noise_w50                        0.000000   \n",
       "Sweep_biodiversity & noise_w100                       0.000000   \n",
       "Sweep_land use_w0                                 87788.553578   \n",
       "Sweep_land use_w50                                    0.000000   \n",
       "Sweep_land use_w100                                   0.000000   \n",
       "Sweep_grid upgrades_w0                                0.000000   \n",
       "Sweep_grid upgrades_w50                               0.000000   \n",
       "Sweep_grid upgrades_w100                              0.000000   \n",
       "Sweep_reliability_w0                                  0.000000   \n",
       "Sweep_reliability_w50                             59783.942326   \n",
       "Sweep_reliability_w100                           224486.888320   \n",
       "\n",
       "                                 Installed_offwind_MW  Installed_onwind_MW  \\\n",
       "Scenario                                                                     \n",
       "Economic_Baseline                        88659.662520         98892.680306   \n",
       "Sweep_ghg_w0                            109432.858059          4507.692048   \n",
       "Sweep_ghg_w50                           130932.856569         46223.798303   \n",
       "Sweep_ghg_w100                           17666.090292        236673.933831   \n",
       "Sweep_biodiversity & noise_w0           103258.108572         11025.110260   \n",
       "Sweep_biodiversity & noise_w50          143289.947003         15395.772637   \n",
       "Sweep_biodiversity & noise_w100         105489.966215         61264.793202   \n",
       "Sweep_land use_w0                        81841.125949         75154.626045   \n",
       "Sweep_land use_w50                      146942.183683             0.000000   \n",
       "Sweep_land use_w100                     144291.239568             0.000000   \n",
       "Sweep_grid upgrades_w0                  157759.517427             0.000000   \n",
       "Sweep_grid upgrades_w50                  92655.349696         26203.806140   \n",
       "Sweep_grid upgrades_w100                 27140.556780         78761.417613   \n",
       "Sweep_reliability_w0                    143602.603567         14767.357682   \n",
       "Sweep_reliability_w50                    89881.267972         11025.110260   \n",
       "Sweep_reliability_w100                   18201.788425             0.000000   \n",
       "\n",
       "                                 Fixed_Capacity_DSR_MW  \\\n",
       "Scenario                                                 \n",
       "Economic_Baseline                               8930.0   \n",
       "Sweep_ghg_w0                                    8930.0   \n",
       "Sweep_ghg_w50                                   8930.0   \n",
       "Sweep_ghg_w100                                  8930.0   \n",
       "Sweep_biodiversity & noise_w0                   8930.0   \n",
       "Sweep_biodiversity & noise_w50                  8930.0   \n",
       "Sweep_biodiversity & noise_w100                 8930.0   \n",
       "Sweep_land use_w0                               8930.0   \n",
       "Sweep_land use_w50                              8930.0   \n",
       "Sweep_land use_w100                             8930.0   \n",
       "Sweep_grid upgrades_w0                          8930.0   \n",
       "Sweep_grid upgrades_w50                         8930.0   \n",
       "Sweep_grid upgrades_w100                        8930.0   \n",
       "Sweep_reliability_w0                            8930.0   \n",
       "Sweep_reliability_w50                           8930.0   \n",
       "Sweep_reliability_w100                          8930.0   \n",
       "\n",
       "                                 Fixed_Capacity_load_shed_MW  \\\n",
       "Scenario                                                       \n",
       "Economic_Baseline                                    45000.0   \n",
       "Sweep_ghg_w0                                         45000.0   \n",
       "Sweep_ghg_w50                                        45000.0   \n",
       "Sweep_ghg_w100                                       45000.0   \n",
       "Sweep_biodiversity & noise_w0                        45000.0   \n",
       "Sweep_biodiversity & noise_w50                       45000.0   \n",
       "Sweep_biodiversity & noise_w100                      45000.0   \n",
       "Sweep_land use_w0                                    45000.0   \n",
       "Sweep_land use_w50                                   45000.0   \n",
       "Sweep_land use_w100                                  45000.0   \n",
       "Sweep_grid upgrades_w0                               45000.0   \n",
       "Sweep_grid upgrades_w50                              45000.0   \n",
       "Sweep_grid upgrades_w100                             45000.0   \n",
       "Sweep_reliability_w0                                 45000.0   \n",
       "Sweep_reliability_w50                                45000.0   \n",
       "Sweep_reliability_w100                               45000.0   \n",
       "\n",
       "                                 Total_Generation_MWh  Gen_DSR_%  ...  \\\n",
       "Scenario                                                          ...   \n",
       "Economic_Baseline                        3.535099e+08   0.161670  ...   \n",
       "Sweep_ghg_w0                             3.600359e+08   0.014882  ...   \n",
       "Sweep_ghg_w50                            3.516079e+08   0.030477  ...   \n",
       "Sweep_ghg_w100                           3.558968e+08   0.175641  ...   \n",
       "Sweep_biodiversity & noise_w0            3.583345e+08   0.024523  ...   \n",
       "Sweep_biodiversity & noise_w50           3.583327e+08   0.019937  ...   \n",
       "Sweep_biodiversity & noise_w100          3.571717e+08   0.019603  ...   \n",
       "Sweep_land use_w0                        3.540544e+08   0.020178  ...   \n",
       "Sweep_land use_w50                       3.594170e+08   0.019877  ...   \n",
       "Sweep_land use_w100                      3.512706e+08   0.020338  ...   \n",
       "Sweep_grid upgrades_w0                   3.593738e+08   0.024849  ...   \n",
       "Sweep_grid upgrades_w50                  3.587773e+08   0.018307  ...   \n",
       "Sweep_grid upgrades_w100                 3.633766e+08   0.039670  ...   \n",
       "Sweep_reliability_w0                     3.584982e+08   0.024909  ...   \n",
       "Sweep_reliability_w50                    3.616266e+08   0.019755  ...   \n",
       "Sweep_reliability_w100                   4.156417e+08   0.180473  ...   \n",
       "\n",
       "                                 Curtailment_('Generator', 'DSR')_MWh  \\\n",
       "Scenario                                                                \n",
       "Economic_Baseline                                                   0   \n",
       "Sweep_ghg_w0                                                        0   \n",
       "Sweep_ghg_w50                                                       0   \n",
       "Sweep_ghg_w100                                                      0   \n",
       "Sweep_biodiversity & noise_w0                                       0   \n",
       "Sweep_biodiversity & noise_w50                                      0   \n",
       "Sweep_biodiversity & noise_w100                                     0   \n",
       "Sweep_land use_w0                                                   0   \n",
       "Sweep_land use_w50                                                  0   \n",
       "Sweep_land use_w100                                                 0   \n",
       "Sweep_grid upgrades_w0                                              0   \n",
       "Sweep_grid upgrades_w50                                             0   \n",
       "Sweep_grid upgrades_w100                                            0   \n",
       "Sweep_reliability_w0                                                0   \n",
       "Sweep_reliability_w50                                               0   \n",
       "Sweep_reliability_w100                                              0   \n",
       "\n",
       "                                 Curtailment_('StorageUnit', 'DSR')_MWh  \\\n",
       "Scenario                                                                  \n",
       "Economic_Baseline                                          7.375137e+07   \n",
       "Sweep_ghg_w0                                               7.327475e+07   \n",
       "Sweep_ghg_w50                                              7.332405e+07   \n",
       "Sweep_ghg_w100                                             7.380084e+07   \n",
       "Sweep_biodiversity & noise_w0                              7.330762e+07   \n",
       "Sweep_biodiversity & noise_w50                             7.329118e+07   \n",
       "Sweep_biodiversity & noise_w100                            7.329118e+07   \n",
       "Sweep_land use_w0                                          7.329118e+07   \n",
       "Sweep_land use_w50                                         7.329118e+07   \n",
       "Sweep_land use_w100                                        7.329118e+07   \n",
       "Sweep_grid upgrades_w0                                     7.330762e+07   \n",
       "Sweep_grid upgrades_w50                                    7.328719e+07   \n",
       "Sweep_grid upgrades_w100                                   7.336532e+07   \n",
       "Sweep_reliability_w0                                       7.330762e+07   \n",
       "Sweep_reliability_w50                                      7.329118e+07   \n",
       "Sweep_reliability_w100                                     7.391573e+07   \n",
       "\n",
       "                                 Curtailment_('Generator', 'load_shed')_MWh  \\\n",
       "Scenario                                                                      \n",
       "Economic_Baseline                                               394200000.0   \n",
       "Sweep_ghg_w0                                                    394200000.0   \n",
       "Sweep_ghg_w50                                                   394200000.0   \n",
       "Sweep_ghg_w100                                                  394200000.0   \n",
       "Sweep_biodiversity & noise_w0                                   394200000.0   \n",
       "Sweep_biodiversity & noise_w50                                  394200000.0   \n",
       "Sweep_biodiversity & noise_w100                                 394200000.0   \n",
       "Sweep_land use_w0                                               394200000.0   \n",
       "Sweep_land use_w50                                              394200000.0   \n",
       "Sweep_land use_w100                                             394200000.0   \n",
       "Sweep_grid upgrades_w0                                          394200000.0   \n",
       "Sweep_grid upgrades_w50                                         394200000.0   \n",
       "Sweep_grid upgrades_w100                                        394200000.0   \n",
       "Sweep_reliability_w0                                            394200000.0   \n",
       "Sweep_reliability_w50                                           394200000.0   \n",
       "Sweep_reliability_w100                                          394200000.0   \n",
       "\n",
       "                                 Curtailment_('StorageUnit', 'load_shed')_MWh  \\\n",
       "Scenario                                                                        \n",
       "Economic_Baseline                                                           0   \n",
       "Sweep_ghg_w0                                                                0   \n",
       "Sweep_ghg_w50                                                               0   \n",
       "Sweep_ghg_w100                                                              0   \n",
       "Sweep_biodiversity & noise_w0                                               0   \n",
       "Sweep_biodiversity & noise_w50                                              0   \n",
       "Sweep_biodiversity & noise_w100                                             0   \n",
       "Sweep_land use_w0                                                           0   \n",
       "Sweep_land use_w50                                                          0   \n",
       "Sweep_land use_w100                                                         0   \n",
       "Sweep_grid upgrades_w0                                                      0   \n",
       "Sweep_grid upgrades_w50                                                     0   \n",
       "Sweep_grid upgrades_w100                                                    0   \n",
       "Sweep_reliability_w0                                                        0   \n",
       "Sweep_reliability_w50                                                       0   \n",
       "Sweep_reliability_w100                                                      0   \n",
       "\n",
       "                                 Curtailment_('Generator', 'AC')_MWh  \\\n",
       "Scenario                                                               \n",
       "Economic_Baseline                                                  0   \n",
       "Sweep_ghg_w0                                                       0   \n",
       "Sweep_ghg_w50                                                      0   \n",
       "Sweep_ghg_w100                                                     0   \n",
       "Sweep_biodiversity & noise_w0                                      0   \n",
       "Sweep_biodiversity & noise_w50                                     0   \n",
       "Sweep_biodiversity & noise_w100                                    0   \n",
       "Sweep_land use_w0                                                  0   \n",
       "Sweep_land use_w50                                                 0   \n",
       "Sweep_land use_w100                                                0   \n",
       "Sweep_grid upgrades_w0                                             0   \n",
       "Sweep_grid upgrades_w50                                            0   \n",
       "Sweep_grid upgrades_w100                                           0   \n",
       "Sweep_reliability_w0                                               0   \n",
       "Sweep_reliability_w50                                              0   \n",
       "Sweep_reliability_w100                                             0   \n",
       "\n",
       "                                 Curtailment_('StorageUnit', 'AC')_MWh  \\\n",
       "Scenario                                                                 \n",
       "Economic_Baseline                                                    0   \n",
       "Sweep_ghg_w0                                                         0   \n",
       "Sweep_ghg_w50                                                        0   \n",
       "Sweep_ghg_w100                                                       0   \n",
       "Sweep_biodiversity & noise_w0                                        0   \n",
       "Sweep_biodiversity & noise_w50                                       0   \n",
       "Sweep_biodiversity & noise_w100                                      0   \n",
       "Sweep_land use_w0                                                    0   \n",
       "Sweep_land use_w50                                                   0   \n",
       "Sweep_land use_w100                                                  0   \n",
       "Sweep_grid upgrades_w0                                               0   \n",
       "Sweep_grid upgrades_w50                                              0   \n",
       "Sweep_grid upgrades_w100                                             0   \n",
       "Sweep_reliability_w0                                                 0   \n",
       "Sweep_reliability_w50                                                0   \n",
       "Sweep_reliability_w100                                               0   \n",
       "\n",
       "                                       sweep_variable  primary_weight  \\\n",
       "Scenario                                                                \n",
       "Economic_Baseline                   Economic_Baseline               0   \n",
       "Sweep_ghg_w0                                      ghg               0   \n",
       "Sweep_ghg_w50                                     ghg              50   \n",
       "Sweep_ghg_w100                                    ghg             100   \n",
       "Sweep_biodiversity & noise_w0    biodiversity & noise               0   \n",
       "Sweep_biodiversity & noise_w50   biodiversity & noise              50   \n",
       "Sweep_biodiversity & noise_w100  biodiversity & noise             100   \n",
       "Sweep_land use_w0                            land use               0   \n",
       "Sweep_land use_w50                           land use              50   \n",
       "Sweep_land use_w100                          land use             100   \n",
       "Sweep_grid upgrades_w0                  grid upgrades               0   \n",
       "Sweep_grid upgrades_w50                 grid upgrades              50   \n",
       "Sweep_grid upgrades_w100                grid upgrades             100   \n",
       "Sweep_reliability_w0                      reliability               0   \n",
       "Sweep_reliability_w50                     reliability              50   \n",
       "Sweep_reliability_w100                    reliability             100   \n",
       "\n",
       "                                 Installed_battery_MW  Installed_tidal_MW  \n",
       "Scenario                                                                   \n",
       "Economic_Baseline                        0.000000e+00            0.000000  \n",
       "Sweep_ghg_w0                             6.841138e+05        19433.224441  \n",
       "Sweep_ghg_w50                            0.000000e+00            0.000000  \n",
       "Sweep_ghg_w100                           0.000000e+00            0.000000  \n",
       "Sweep_biodiversity & noise_w0            2.725909e+05        25438.401580  \n",
       "Sweep_biodiversity & noise_w50           5.681822e+05            0.000000  \n",
       "Sweep_biodiversity & noise_w100          6.240263e+05            0.000000  \n",
       "Sweep_land use_w0                        8.990695e+03         4494.192362  \n",
       "Sweep_land use_w50                       5.748241e+05         4982.311894  \n",
       "Sweep_land use_w100                      4.361912e+05        23587.470948  \n",
       "Sweep_grid upgrades_w0                   5.632709e+05          197.709534  \n",
       "Sweep_grid upgrades_w50                  6.793685e+05        18928.737240  \n",
       "Sweep_grid upgrades_w100                 1.001003e+06        33047.738645  \n",
       "Sweep_reliability_w0                     5.672262e+05          156.074002  \n",
       "Sweep_reliability_w50                    2.198693e+05        29481.307005  \n",
       "Sweep_reliability_w100                   7.122967e+02        94414.584056  \n",
       "\n",
       "[16 rows x 37 columns]"
      ]
     },
     "execution_count": 4,
     "metadata": {},
     "output_type": "execute_result"
    }
   ],
   "source": [
    "# load the results from the CSV file and fill NaN values with 0\n",
    "df = pd.read_csv('all_sweeps_results.csv', index_col='Scenario')\n",
    "df = df.fillna(0)\n",
    "df"
   ]
  },
  {
   "cell_type": "markdown",
   "id": "c50b8c74",
   "metadata": {},
   "source": [
    "Plot to see what the generation mix looks like"
   ]
  },
  {
   "cell_type": "code",
   "execution_count": 14,
   "id": "6b1a0f2f",
   "metadata": {},
   "outputs": [
    {
     "data": {
      "application/vnd.plotly.v1+json": {
       "config": {
        "plotlyServerURL": "https://plot.ly"
       },
       "data": [
        {
         "hovertemplate": "variable=Dsr<br>Scenario=%{x}<br>Generation Share (%)=%{y}<extra></extra>",
         "legendgroup": "Dsr",
         "marker": {
          "color": "#636efa",
          "pattern": {
           "shape": ""
          }
         },
         "name": "Dsr",
         "orientation": "v",
         "showlegend": true,
         "textposition": "auto",
         "type": "bar",
         "x": [
          "Economic Baseline",
          "GHG Reduction",
          "Biodiversity & Noise",
          "Land Use",
          "Grid Upgrades",
          "Reliability"
         ],
         "xaxis": "x",
         "y": {
          "bdata": "y26am5uxxD+l0o6oZXvGPyW6Aky8EpQ/wxr5M2HTlD/2SEwKoE+kP8K+yAe7Gcc/",
          "dtype": "f8"
         },
         "yaxis": "y"
        },
        {
         "hovertemplate": "variable=Battery<br>Scenario=%{x}<br>Generation Share (%)=%{y}<extra></extra>",
         "legendgroup": "Battery",
         "marker": {
          "color": "#EF553B",
          "pattern": {
           "shape": ""
          }
         },
         "name": "Battery",
         "orientation": "v",
         "showlegend": true,
         "textposition": "auto",
         "type": "bar",
         "x": [
          "Economic Baseline",
          "GHG Reduction",
          "Biodiversity & Noise",
          "Land Use",
          "Grid Upgrades",
          "Reliability"
         ],
         "xaxis": "x",
         "y": {
          "bdata": "AAAAAAAAAAAAAAAAAAAAAGYBLHRf0BRAe1917mriDECNkuA6JCAbQNrm/MT7WJA/",
          "dtype": "f8"
         },
         "yaxis": "y"
        },
        {
         "hovertemplate": "variable=Hydroelectric Ph<br>Scenario=%{x}<br>Generation Share (%)=%{y}<extra></extra>",
         "legendgroup": "Hydroelectric Ph",
         "marker": {
          "color": "#00cc96",
          "pattern": {
           "shape": ""
          }
         },
         "name": "Hydroelectric Ph",
         "orientation": "v",
         "showlegend": true,
         "textposition": "auto",
         "type": "bar",
         "x": [
          "Economic Baseline",
          "GHG Reduction",
          "Biodiversity & Noise",
          "Land Use",
          "Grid Upgrades",
          "Reliability"
         ],
         "xaxis": "x",
         "y": {
          "bdata": "EMF7UJOYD0CvfHDmTEISQAAAAAAAAAAAAAAAAAAAAAAAAAAAAAAAAJPkLUmENTJA",
          "dtype": "f8"
         },
         "yaxis": "y"
        },
        {
         "hovertemplate": "variable=Load Shed<br>Scenario=%{x}<br>Generation Share (%)=%{y}<extra></extra>",
         "legendgroup": "Load Shed",
         "marker": {
          "color": "#ab63fa",
          "pattern": {
           "shape": ""
          }
         },
         "name": "Load Shed",
         "orientation": "v",
         "showlegend": true,
         "textposition": "auto",
         "type": "bar",
         "x": [
          "Economic Baseline",
          "GHG Reduction",
          "Biodiversity & Noise",
          "Land Use",
          "Grid Upgrades",
          "Reliability"
         ],
         "xaxis": "x",
         "y": {
          "bdata": "AAAAAAAAAAAAAAAAAAAAAAAAAAAAAAAAAAAAAAAAAAAAAAAAAAAAAAAAAAAAAAAA",
          "dtype": "f8"
         },
         "yaxis": "y"
        },
        {
         "hovertemplate": "variable=Offwind<br>Scenario=%{x}<br>Generation Share (%)=%{y}<extra></extra>",
         "legendgroup": "Offwind",
         "marker": {
          "color": "#FFA15A",
          "pattern": {
           "shape": ""
          }
         },
         "name": "Offwind",
         "orientation": "v",
         "showlegend": true,
         "textposition": "auto",
         "type": "bar",
         "x": [
          "Economic Baseline",
          "GHG Reduction",
          "Biodiversity & Noise",
          "Land Use",
          "Grid Upgrades",
          "Reliability"
         ],
         "xaxis": "x",
         "y": {
          "bdata": "tldhsyB8UkD8sfX6e6c0QDtuhQWmokdAGTfSdQ7aVEAa2TzB53A6QHeNcRpqgDFA",
          "dtype": "f8"
         },
         "yaxis": "y"
        },
        {
         "hovertemplate": "variable=Onwind<br>Scenario=%{x}<br>Generation Share (%)=%{y}<extra></extra>",
         "legendgroup": "Onwind",
         "marker": {
          "color": "#19d3f3",
          "pattern": {
           "shape": ""
          }
         },
         "name": "Onwind",
         "orientation": "v",
         "showlegend": true,
         "textposition": "auto",
         "type": "bar",
         "x": [
          "Economic Baseline",
          "GHG Reduction",
          "Biodiversity & Noise",
          "Land Use",
          "Grid Upgrades",
          "Reliability"
         ],
         "xaxis": "x",
         "y": {
          "bdata": "J/QzkQfzNUBMRAeAvqZSQD6Ra7TLwEdAAAAAAAAAAAAM3J5SyKhEQAAAAAAAAAAA",
          "dtype": "f8"
         },
         "yaxis": "y"
        },
        {
         "hovertemplate": "variable=Tidal<br>Scenario=%{x}<br>Generation Share (%)=%{y}<extra></extra>",
         "legendgroup": "Tidal",
         "marker": {
          "color": "#FF6692",
          "pattern": {
           "shape": ""
          }
         },
         "name": "Tidal",
         "orientation": "v",
         "showlegend": true,
         "textposition": "auto",
         "type": "bar",
         "x": [
          "Economic Baseline",
          "GHG Reduction",
          "Biodiversity & Noise",
          "Land Use",
          "Grid Upgrades",
          "Reliability"
         ],
         "xaxis": "x",
         "y": {
          "bdata": "AAAAAAAAAAAAAAAAAAAAAAAAAAAAAAAAzfI25YfsKUAHJMi6Vms5QE/v1/nxBVBA",
          "dtype": "f8"
         },
         "yaxis": "y"
        }
       ],
       "layout": {
        "barmode": "stack",
        "legend": {
         "title": {
          "text": "Technology"
         },
         "tracegroupgap": 0
        },
        "margin": {
         "t": 60
        },
        "template": {
         "data": {
          "bar": [
           {
            "error_x": {
             "color": "#2a3f5f"
            },
            "error_y": {
             "color": "#2a3f5f"
            },
            "marker": {
             "line": {
              "color": "#E5ECF6",
              "width": 0.5
             },
             "pattern": {
              "fillmode": "overlay",
              "size": 10,
              "solidity": 0.2
             }
            },
            "type": "bar"
           }
          ],
          "barpolar": [
           {
            "marker": {
             "line": {
              "color": "#E5ECF6",
              "width": 0.5
             },
             "pattern": {
              "fillmode": "overlay",
              "size": 10,
              "solidity": 0.2
             }
            },
            "type": "barpolar"
           }
          ],
          "carpet": [
           {
            "aaxis": {
             "endlinecolor": "#2a3f5f",
             "gridcolor": "white",
             "linecolor": "white",
             "minorgridcolor": "white",
             "startlinecolor": "#2a3f5f"
            },
            "baxis": {
             "endlinecolor": "#2a3f5f",
             "gridcolor": "white",
             "linecolor": "white",
             "minorgridcolor": "white",
             "startlinecolor": "#2a3f5f"
            },
            "type": "carpet"
           }
          ],
          "choropleth": [
           {
            "colorbar": {
             "outlinewidth": 0,
             "ticks": ""
            },
            "type": "choropleth"
           }
          ],
          "contour": [
           {
            "colorbar": {
             "outlinewidth": 0,
             "ticks": ""
            },
            "colorscale": [
             [
              0,
              "#0d0887"
             ],
             [
              0.1111111111111111,
              "#46039f"
             ],
             [
              0.2222222222222222,
              "#7201a8"
             ],
             [
              0.3333333333333333,
              "#9c179e"
             ],
             [
              0.4444444444444444,
              "#bd3786"
             ],
             [
              0.5555555555555556,
              "#d8576b"
             ],
             [
              0.6666666666666666,
              "#ed7953"
             ],
             [
              0.7777777777777778,
              "#fb9f3a"
             ],
             [
              0.8888888888888888,
              "#fdca26"
             ],
             [
              1,
              "#f0f921"
             ]
            ],
            "type": "contour"
           }
          ],
          "contourcarpet": [
           {
            "colorbar": {
             "outlinewidth": 0,
             "ticks": ""
            },
            "type": "contourcarpet"
           }
          ],
          "heatmap": [
           {
            "colorbar": {
             "outlinewidth": 0,
             "ticks": ""
            },
            "colorscale": [
             [
              0,
              "#0d0887"
             ],
             [
              0.1111111111111111,
              "#46039f"
             ],
             [
              0.2222222222222222,
              "#7201a8"
             ],
             [
              0.3333333333333333,
              "#9c179e"
             ],
             [
              0.4444444444444444,
              "#bd3786"
             ],
             [
              0.5555555555555556,
              "#d8576b"
             ],
             [
              0.6666666666666666,
              "#ed7953"
             ],
             [
              0.7777777777777778,
              "#fb9f3a"
             ],
             [
              0.8888888888888888,
              "#fdca26"
             ],
             [
              1,
              "#f0f921"
             ]
            ],
            "type": "heatmap"
           }
          ],
          "histogram": [
           {
            "marker": {
             "pattern": {
              "fillmode": "overlay",
              "size": 10,
              "solidity": 0.2
             }
            },
            "type": "histogram"
           }
          ],
          "histogram2d": [
           {
            "colorbar": {
             "outlinewidth": 0,
             "ticks": ""
            },
            "colorscale": [
             [
              0,
              "#0d0887"
             ],
             [
              0.1111111111111111,
              "#46039f"
             ],
             [
              0.2222222222222222,
              "#7201a8"
             ],
             [
              0.3333333333333333,
              "#9c179e"
             ],
             [
              0.4444444444444444,
              "#bd3786"
             ],
             [
              0.5555555555555556,
              "#d8576b"
             ],
             [
              0.6666666666666666,
              "#ed7953"
             ],
             [
              0.7777777777777778,
              "#fb9f3a"
             ],
             [
              0.8888888888888888,
              "#fdca26"
             ],
             [
              1,
              "#f0f921"
             ]
            ],
            "type": "histogram2d"
           }
          ],
          "histogram2dcontour": [
           {
            "colorbar": {
             "outlinewidth": 0,
             "ticks": ""
            },
            "colorscale": [
             [
              0,
              "#0d0887"
             ],
             [
              0.1111111111111111,
              "#46039f"
             ],
             [
              0.2222222222222222,
              "#7201a8"
             ],
             [
              0.3333333333333333,
              "#9c179e"
             ],
             [
              0.4444444444444444,
              "#bd3786"
             ],
             [
              0.5555555555555556,
              "#d8576b"
             ],
             [
              0.6666666666666666,
              "#ed7953"
             ],
             [
              0.7777777777777778,
              "#fb9f3a"
             ],
             [
              0.8888888888888888,
              "#fdca26"
             ],
             [
              1,
              "#f0f921"
             ]
            ],
            "type": "histogram2dcontour"
           }
          ],
          "mesh3d": [
           {
            "colorbar": {
             "outlinewidth": 0,
             "ticks": ""
            },
            "type": "mesh3d"
           }
          ],
          "parcoords": [
           {
            "line": {
             "colorbar": {
              "outlinewidth": 0,
              "ticks": ""
             }
            },
            "type": "parcoords"
           }
          ],
          "pie": [
           {
            "automargin": true,
            "type": "pie"
           }
          ],
          "scatter": [
           {
            "fillpattern": {
             "fillmode": "overlay",
             "size": 10,
             "solidity": 0.2
            },
            "type": "scatter"
           }
          ],
          "scatter3d": [
           {
            "line": {
             "colorbar": {
              "outlinewidth": 0,
              "ticks": ""
             }
            },
            "marker": {
             "colorbar": {
              "outlinewidth": 0,
              "ticks": ""
             }
            },
            "type": "scatter3d"
           }
          ],
          "scattercarpet": [
           {
            "marker": {
             "colorbar": {
              "outlinewidth": 0,
              "ticks": ""
             }
            },
            "type": "scattercarpet"
           }
          ],
          "scattergeo": [
           {
            "marker": {
             "colorbar": {
              "outlinewidth": 0,
              "ticks": ""
             }
            },
            "type": "scattergeo"
           }
          ],
          "scattergl": [
           {
            "marker": {
             "colorbar": {
              "outlinewidth": 0,
              "ticks": ""
             }
            },
            "type": "scattergl"
           }
          ],
          "scattermap": [
           {
            "marker": {
             "colorbar": {
              "outlinewidth": 0,
              "ticks": ""
             }
            },
            "type": "scattermap"
           }
          ],
          "scattermapbox": [
           {
            "marker": {
             "colorbar": {
              "outlinewidth": 0,
              "ticks": ""
             }
            },
            "type": "scattermapbox"
           }
          ],
          "scatterpolar": [
           {
            "marker": {
             "colorbar": {
              "outlinewidth": 0,
              "ticks": ""
             }
            },
            "type": "scatterpolar"
           }
          ],
          "scatterpolargl": [
           {
            "marker": {
             "colorbar": {
              "outlinewidth": 0,
              "ticks": ""
             }
            },
            "type": "scatterpolargl"
           }
          ],
          "scatterternary": [
           {
            "marker": {
             "colorbar": {
              "outlinewidth": 0,
              "ticks": ""
             }
            },
            "type": "scatterternary"
           }
          ],
          "surface": [
           {
            "colorbar": {
             "outlinewidth": 0,
             "ticks": ""
            },
            "colorscale": [
             [
              0,
              "#0d0887"
             ],
             [
              0.1111111111111111,
              "#46039f"
             ],
             [
              0.2222222222222222,
              "#7201a8"
             ],
             [
              0.3333333333333333,
              "#9c179e"
             ],
             [
              0.4444444444444444,
              "#bd3786"
             ],
             [
              0.5555555555555556,
              "#d8576b"
             ],
             [
              0.6666666666666666,
              "#ed7953"
             ],
             [
              0.7777777777777778,
              "#fb9f3a"
             ],
             [
              0.8888888888888888,
              "#fdca26"
             ],
             [
              1,
              "#f0f921"
             ]
            ],
            "type": "surface"
           }
          ],
          "table": [
           {
            "cells": {
             "fill": {
              "color": "#EBF0F8"
             },
             "line": {
              "color": "white"
             }
            },
            "header": {
             "fill": {
              "color": "#C8D4E3"
             },
             "line": {
              "color": "white"
             }
            },
            "type": "table"
           }
          ]
         },
         "layout": {
          "annotationdefaults": {
           "arrowcolor": "#2a3f5f",
           "arrowhead": 0,
           "arrowwidth": 1
          },
          "autotypenumbers": "strict",
          "coloraxis": {
           "colorbar": {
            "outlinewidth": 0,
            "ticks": ""
           }
          },
          "colorscale": {
           "diverging": [
            [
             0,
             "#8e0152"
            ],
            [
             0.1,
             "#c51b7d"
            ],
            [
             0.2,
             "#de77ae"
            ],
            [
             0.3,
             "#f1b6da"
            ],
            [
             0.4,
             "#fde0ef"
            ],
            [
             0.5,
             "#f7f7f7"
            ],
            [
             0.6,
             "#e6f5d0"
            ],
            [
             0.7,
             "#b8e186"
            ],
            [
             0.8,
             "#7fbc41"
            ],
            [
             0.9,
             "#4d9221"
            ],
            [
             1,
             "#276419"
            ]
           ],
           "sequential": [
            [
             0,
             "#0d0887"
            ],
            [
             0.1111111111111111,
             "#46039f"
            ],
            [
             0.2222222222222222,
             "#7201a8"
            ],
            [
             0.3333333333333333,
             "#9c179e"
            ],
            [
             0.4444444444444444,
             "#bd3786"
            ],
            [
             0.5555555555555556,
             "#d8576b"
            ],
            [
             0.6666666666666666,
             "#ed7953"
            ],
            [
             0.7777777777777778,
             "#fb9f3a"
            ],
            [
             0.8888888888888888,
             "#fdca26"
            ],
            [
             1,
             "#f0f921"
            ]
           ],
           "sequentialminus": [
            [
             0,
             "#0d0887"
            ],
            [
             0.1111111111111111,
             "#46039f"
            ],
            [
             0.2222222222222222,
             "#7201a8"
            ],
            [
             0.3333333333333333,
             "#9c179e"
            ],
            [
             0.4444444444444444,
             "#bd3786"
            ],
            [
             0.5555555555555556,
             "#d8576b"
            ],
            [
             0.6666666666666666,
             "#ed7953"
            ],
            [
             0.7777777777777778,
             "#fb9f3a"
            ],
            [
             0.8888888888888888,
             "#fdca26"
            ],
            [
             1,
             "#f0f921"
            ]
           ]
          },
          "colorway": [
           "#636efa",
           "#EF553B",
           "#00cc96",
           "#ab63fa",
           "#FFA15A",
           "#19d3f3",
           "#FF6692",
           "#B6E880",
           "#FF97FF",
           "#FECB52"
          ],
          "font": {
           "color": "#2a3f5f"
          },
          "geo": {
           "bgcolor": "white",
           "lakecolor": "white",
           "landcolor": "#E5ECF6",
           "showlakes": true,
           "showland": true,
           "subunitcolor": "white"
          },
          "hoverlabel": {
           "align": "left"
          },
          "hovermode": "closest",
          "mapbox": {
           "style": "light"
          },
          "paper_bgcolor": "white",
          "plot_bgcolor": "#E5ECF6",
          "polar": {
           "angularaxis": {
            "gridcolor": "white",
            "linecolor": "white",
            "ticks": ""
           },
           "bgcolor": "#E5ECF6",
           "radialaxis": {
            "gridcolor": "white",
            "linecolor": "white",
            "ticks": ""
           }
          },
          "scene": {
           "xaxis": {
            "backgroundcolor": "#E5ECF6",
            "gridcolor": "white",
            "gridwidth": 2,
            "linecolor": "white",
            "showbackground": true,
            "ticks": "",
            "zerolinecolor": "white"
           },
           "yaxis": {
            "backgroundcolor": "#E5ECF6",
            "gridcolor": "white",
            "gridwidth": 2,
            "linecolor": "white",
            "showbackground": true,
            "ticks": "",
            "zerolinecolor": "white"
           },
           "zaxis": {
            "backgroundcolor": "#E5ECF6",
            "gridcolor": "white",
            "gridwidth": 2,
            "linecolor": "white",
            "showbackground": true,
            "ticks": "",
            "zerolinecolor": "white"
           }
          },
          "shapedefaults": {
           "line": {
            "color": "#2a3f5f"
           }
          },
          "ternary": {
           "aaxis": {
            "gridcolor": "white",
            "linecolor": "white",
            "ticks": ""
           },
           "baxis": {
            "gridcolor": "white",
            "linecolor": "white",
            "ticks": ""
           },
           "bgcolor": "#E5ECF6",
           "caxis": {
            "gridcolor": "white",
            "linecolor": "white",
            "ticks": ""
           }
          },
          "title": {
           "x": 0.05
          },
          "xaxis": {
           "automargin": true,
           "gridcolor": "white",
           "linecolor": "white",
           "ticks": "",
           "title": {
            "standoff": 15
           },
           "zerolinecolor": "white",
           "zerolinewidth": 2
          },
          "yaxis": {
           "automargin": true,
           "gridcolor": "white",
           "linecolor": "white",
           "ticks": "",
           "title": {
            "standoff": 15
           },
           "zerolinecolor": "white",
           "zerolinewidth": 2
          }
         }
        },
        "title": {
         "x": 0.5
        },
        "xaxis": {
         "anchor": "y",
         "categoryarray": [
          "Economic Baseline",
          "GHG Reduction",
          "Biodiversity & Noise",
          "Land Use",
          "Grid Upgrades",
          "Reliability"
         ],
         "categoryorder": "array",
         "domain": [
          0,
          1
         ],
         "tickangle": 45,
         "title": {
          "text": "Policy Priority"
         }
        },
        "yaxis": {
         "anchor": "x",
         "domain": [
          0,
          1
         ],
         "title": {
          "text": "Generation Share (%)"
         }
        }
       }
      }
     },
     "metadata": {},
     "output_type": "display_data"
    }
   ],
   "source": [
    "# Define the scenarios to plot for the extreme (w100) cases.\n",
    "scenarios_to_plot_w100 = [\n",
    "    'Economic_Baseline',\n",
    "    'Sweep_ghg_w100',\n",
    "    'Sweep_biodiversity & noise_w100',\n",
    "    'Sweep_land use_w100',\n",
    "    'Sweep_grid upgrades_w100',\n",
    "    'Sweep_reliability_w100'\n",
    "]\n",
    "\n",
    "# Select the data for the plot using the index\n",
    "gen_mix_cols = [col for col in df.columns if col.startswith('Gen_') and col.endswith('%')]\n",
    "plot_df_w100 = df.loc[scenarios_to_plot_w100, gen_mix_cols].copy()\n",
    "\n",
    "# Clean the column names for a tidy legend\n",
    "cleaned_cols = {\n",
    "    col: col.replace('Gen_', '').replace('_', ' ').replace(' %', '').title()\n",
    "    for col in gen_mix_cols\n",
    "}\n",
    "plot_df_w100.rename(columns=cleaned_cols, inplace=True)\n",
    "\n",
    "# Define the new, more descriptive scenario labels\n",
    "new_scenario_labels = {\n",
    "    'Economic_Baseline': 'Economic Baseline',\n",
    "    'Sweep_ghg_w100': 'GHG Reduction',\n",
    "    'Sweep_biodiversity & noise_w100': 'Biodiversity & Noise',\n",
    "    'Sweep_land use_w100': 'Land Use',\n",
    "    'Sweep_grid upgrades_w100': 'Grid Upgrades',\n",
    "    'Sweep_reliability_w100': 'Reliability'\n",
    "}\n",
    "plot_df_w100.rename(index=new_scenario_labels, inplace=True)\n",
    "\n",
    "# Create the stacked bar chart\n",
    "fig_w100 = px.bar(\n",
    "    plot_df_w100,\n",
    "    x=plot_df_w100.index,\n",
    "    y=plot_df_w100.columns,\n",
    "    #title='UK Net-Zero Pathways: Generation Mix Under Diverse Policy Goals',\n",
    "    labels={'value': 'Generation Share (%)', 'index': 'Policy Priority'}\n",
    ")\n",
    "\n",
    "# Final layout updates\n",
    "fig_w100.update_layout(\n",
    "    barmode='stack',\n",
    "    xaxis_title='Policy Priority',  # Explicitly set x-axis title\n",
    "    yaxis_title='Generation Share (%)',\n",
    "    legend_title='Technology',\n",
    "    xaxis={'categoryorder': 'array', 'categoryarray': [new_scenario_labels[s] for s in scenarios_to_plot_w100]},\n",
    "    title_x=0.5\n",
    ")\n",
    "fig_w100.update_xaxes(tickangle=45)\n",
    "\n",
    "fig_w100.show()"
   ]
  },
  {
   "cell_type": "markdown",
   "id": "bd58f361",
   "metadata": {},
   "source": [
    "Plot correlation matrix for key columns"
   ]
  },
  {
   "cell_type": "code",
   "execution_count": 6,
   "id": "4e0a0372",
   "metadata": {},
   "outputs": [
    {
     "data": {
      "image/png": "[encoded data removed]",
      "text/plain": [
       "<Figure size 1200x800 with 2 Axes>"
      ]
     },
     "metadata": {},
     "output_type": "display_data"
    }
   ],
   "source": [
    "\n",
    "\n",
    "# Select key numeric columns for the correlation analysis.\n",
    "# You can customize this list to explore other variables.\n",
    "correlation_cols = [\n",
    "    'Economic_System_Cost_GBP',\n",
    "    'Total_Generation_MWh',\n",
    "    'Installed_AC_MW',\n",
    "    'Installed_battery_MW',\n",
    "    'Installed_hydroelectric_ph_MW',\n",
    "    'Installed_load_shed_MW',\n",
    "    'Installed_offwind_MW',\n",
    "    'Installed_onwind_MW',\n",
    "    'Installed_tidal_MW',\n",
    "    'Total_Curtailment_MWh'\n",
    "]\n",
    "\n",
    "# Filter out any columns that may not exist in your specific dataframe\n",
    "existing_corr_cols = [col for col in correlation_cols if col in df.columns]\n",
    "\n",
    "# Create a dataframe for the correlation matrix\n",
    "corr_df = df[existing_corr_cols]\n",
    "correlation_matrix = corr_df.corr()\n",
    "\n",
    "# Plot the heatmap\n",
    "plt.figure(figsize=(12, 8))\n",
    "sns.heatmap(correlation_matrix, annot=True, cmap='coolwarm', fmt='.2f', linewidths=.5)\n",
    "plt.title('Correlation Heatmap of Key System Metrics', fontsize=16)\n",
    "plt.xticks(rotation=45, ha='right')\n",
    "plt.yticks(rotation=0)\n",
    "plt.tight_layout()\n",
    "# To save the figure to a file, uncomment the following line:\n",
    "# plt.savefig('correlation_heatmap.png')\n",
    "plt.show()"
   ]
  },
  {
   "cell_type": "markdown",
   "id": "695c01eb",
   "metadata": {},
   "source": [
    "The script below calculates a \"normalized curtailment\" metric to fairly compare the operational inefficiency of different technologies. Instead of looking at raw curtailment totals, it measures how much energy is wasted per unit of installed capacity (MWh / MW)."
   ]
  },
  {
   "cell_type": "code",
   "execution_count": 15,
   "id": "4804eef1",
   "metadata": {},
   "outputs": [
    {
     "data": {
      "application/vnd.plotly.v1+json": {
       "config": {
        "plotlyServerURL": "https://plot.ly"
       },
       "data": [
        {
         "hovertemplate": "Technology=%{x}<br>Average Curtailment per Unit of Capacity (MWh / MW)=%{y}<extra></extra>",
         "legendgroup": "",
         "marker": {
          "color": "#636efa",
          "pattern": {
           "shape": ""
          }
         },
         "name": "",
         "orientation": "v",
         "showlegend": false,
         "textposition": "auto",
         "type": "bar",
         "x": [
          "Onwind",
          "Offwind",
          "Tidal"
         ],
         "xaxis": "x",
         "y": {
          "bdata": "FD4LrdNXj0BnClKjH5SOQPiswN5JLnxA",
          "dtype": "f8"
         },
         "yaxis": "y"
        }
       ],
       "layout": {
        "barmode": "relative",
        "legend": {
         "tracegroupgap": 0
        },
        "margin": {
         "t": 60
        },
        "template": {
         "data": {
          "bar": [
           {
            "error_x": {
             "color": "#2a3f5f"
            },
            "error_y": {
             "color": "#2a3f5f"
            },
            "marker": {
             "line": {
              "color": "#E5ECF6",
              "width": 0.5
             },
             "pattern": {
              "fillmode": "overlay",
              "size": 10,
              "solidity": 0.2
             }
            },
            "type": "bar"
           }
          ],
          "barpolar": [
           {
            "marker": {
             "line": {
              "color": "#E5ECF6",
              "width": 0.5
             },
             "pattern": {
              "fillmode": "overlay",
              "size": 10,
              "solidity": 0.2
             }
            },
            "type": "barpolar"
           }
          ],
          "carpet": [
           {
            "aaxis": {
             "endlinecolor": "#2a3f5f",
             "gridcolor": "white",
             "linecolor": "white",
             "minorgridcolor": "white",
             "startlinecolor": "#2a3f5f"
            },
            "baxis": {
             "endlinecolor": "#2a3f5f",
             "gridcolor": "white",
             "linecolor": "white",
             "minorgridcolor": "white",
             "startlinecolor": "#2a3f5f"
            },
            "type": "carpet"
           }
          ],
          "choropleth": [
           {
            "colorbar": {
             "outlinewidth": 0,
             "ticks": ""
            },
            "type": "choropleth"
           }
          ],
          "contour": [
           {
            "colorbar": {
             "outlinewidth": 0,
             "ticks": ""
            },
            "colorscale": [
             [
              0,
              "#0d0887"
             ],
             [
              0.1111111111111111,
              "#46039f"
             ],
             [
              0.2222222222222222,
              "#7201a8"
             ],
             [
              0.3333333333333333,
              "#9c179e"
             ],
             [
              0.4444444444444444,
              "#bd3786"
             ],
             [
              0.5555555555555556,
              "#d8576b"
             ],
             [
              0.6666666666666666,
              "#ed7953"
             ],
             [
              0.7777777777777778,
              "#fb9f3a"
             ],
             [
              0.8888888888888888,
              "#fdca26"
             ],
             [
              1,
              "#f0f921"
             ]
            ],
            "type": "contour"
           }
          ],
          "contourcarpet": [
           {
            "colorbar": {
             "outlinewidth": 0,
             "ticks": ""
            },
            "type": "contourcarpet"
           }
          ],
          "heatmap": [
           {
            "colorbar": {
             "outlinewidth": 0,
             "ticks": ""
            },
            "colorscale": [
             [
              0,
              "#0d0887"
             ],
             [
              0.1111111111111111,
              "#46039f"
             ],
             [
              0.2222222222222222,
              "#7201a8"
             ],
             [
              0.3333333333333333,
              "#9c179e"
             ],
             [
              0.4444444444444444,
              "#bd3786"
             ],
             [
              0.5555555555555556,
              "#d8576b"
             ],
             [
              0.6666666666666666,
              "#ed7953"
             ],
             [
              0.7777777777777778,
              "#fb9f3a"
             ],
             [
              0.8888888888888888,
              "#fdca26"
             ],
             [
              1,
              "#f0f921"
             ]
            ],
            "type": "heatmap"
           }
          ],
          "histogram": [
           {
            "marker": {
             "pattern": {
              "fillmode": "overlay",
              "size": 10,
              "solidity": 0.2
             }
            },
            "type": "histogram"
           }
          ],
          "histogram2d": [
           {
            "colorbar": {
             "outlinewidth": 0,
             "ticks": ""
            },
            "colorscale": [
             [
              0,
              "#0d0887"
             ],
             [
              0.1111111111111111,
              "#46039f"
             ],
             [
              0.2222222222222222,
              "#7201a8"
             ],
             [
              0.3333333333333333,
              "#9c179e"
             ],
             [
              0.4444444444444444,
              "#bd3786"
             ],
             [
              0.5555555555555556,
              "#d8576b"
             ],
             [
              0.6666666666666666,
              "#ed7953"
             ],
             [
              0.7777777777777778,
              "#fb9f3a"
             ],
             [
              0.8888888888888888,
              "#fdca26"
             ],
             [
              1,
              "#f0f921"
             ]
            ],
            "type": "histogram2d"
           }
          ],
          "histogram2dcontour": [
           {
            "colorbar": {
             "outlinewidth": 0,
             "ticks": ""
            },
            "colorscale": [
             [
              0,
              "#0d0887"
             ],
             [
              0.1111111111111111,
              "#46039f"
             ],
             [
              0.2222222222222222,
              "#7201a8"
             ],
             [
              0.3333333333333333,
              "#9c179e"
             ],
             [
              0.4444444444444444,
              "#bd3786"
             ],
             [
              0.5555555555555556,
              "#d8576b"
             ],
             [
              0.6666666666666666,
              "#ed7953"
             ],
             [
              0.7777777777777778,
              "#fb9f3a"
             ],
             [
              0.8888888888888888,
              "#fdca26"
             ],
             [
              1,
              "#f0f921"
             ]
            ],
            "type": "histogram2dcontour"
           }
          ],
          "mesh3d": [
           {
            "colorbar": {
             "outlinewidth": 0,
             "ticks": ""
            },
            "type": "mesh3d"
           }
          ],
          "parcoords": [
           {
            "line": {
             "colorbar": {
              "outlinewidth": 0,
              "ticks": ""
             }
            },
            "type": "parcoords"
           }
          ],
          "pie": [
           {
            "automargin": true,
            "type": "pie"
           }
          ],
          "scatter": [
           {
            "fillpattern": {
             "fillmode": "overlay",
             "size": 10,
             "solidity": 0.2
            },
            "type": "scatter"
           }
          ],
          "scatter3d": [
           {
            "line": {
             "colorbar": {
              "outlinewidth": 0,
              "ticks": ""
             }
            },
            "marker": {
             "colorbar": {
              "outlinewidth": 0,
              "ticks": ""
             }
            },
            "type": "scatter3d"
           }
          ],
          "scattercarpet": [
           {
            "marker": {
             "colorbar": {
              "outlinewidth": 0,
              "ticks": ""
             }
            },
            "type": "scattercarpet"
           }
          ],
          "scattergeo": [
           {
            "marker": {
             "colorbar": {
              "outlinewidth": 0,
              "ticks": ""
             }
            },
            "type": "scattergeo"
           }
          ],
          "scattergl": [
           {
            "marker": {
             "colorbar": {
              "outlinewidth": 0,
              "ticks": ""
             }
            },
            "type": "scattergl"
           }
          ],
          "scattermap": [
           {
            "marker": {
             "colorbar": {
              "outlinewidth": 0,
              "ticks": ""
             }
            },
            "type": "scattermap"
           }
          ],
          "scattermapbox": [
           {
            "marker": {
             "colorbar": {
              "outlinewidth": 0,
              "ticks": ""
             }
            },
            "type": "scattermapbox"
           }
          ],
          "scatterpolar": [
           {
            "marker": {
             "colorbar": {
              "outlinewidth": 0,
              "ticks": ""
             }
            },
            "type": "scatterpolar"
           }
          ],
          "scatterpolargl": [
           {
            "marker": {
             "colorbar": {
              "outlinewidth": 0,
              "ticks": ""
             }
            },
            "type": "scatterpolargl"
           }
          ],
          "scatterternary": [
           {
            "marker": {
             "colorbar": {
              "outlinewidth": 0,
              "ticks": ""
             }
            },
            "type": "scatterternary"
           }
          ],
          "surface": [
           {
            "colorbar": {
             "outlinewidth": 0,
             "ticks": ""
            },
            "colorscale": [
             [
              0,
              "#0d0887"
             ],
             [
              0.1111111111111111,
              "#46039f"
             ],
             [
              0.2222222222222222,
              "#7201a8"
             ],
             [
              0.3333333333333333,
              "#9c179e"
             ],
             [
              0.4444444444444444,
              "#bd3786"
             ],
             [
              0.5555555555555556,
              "#d8576b"
             ],
             [
              0.6666666666666666,
              "#ed7953"
             ],
             [
              0.7777777777777778,
              "#fb9f3a"
             ],
             [
              0.8888888888888888,
              "#fdca26"
             ],
             [
              1,
              "#f0f921"
             ]
            ],
            "type": "surface"
           }
          ],
          "table": [
           {
            "cells": {
             "fill": {
              "color": "#EBF0F8"
             },
             "line": {
              "color": "white"
             }
            },
            "header": {
             "fill": {
              "color": "#C8D4E3"
             },
             "line": {
              "color": "white"
             }
            },
            "type": "table"
           }
          ]
         },
         "layout": {
          "annotationdefaults": {
           "arrowcolor": "#2a3f5f",
           "arrowhead": 0,
           "arrowwidth": 1
          },
          "autotypenumbers": "strict",
          "coloraxis": {
           "colorbar": {
            "outlinewidth": 0,
            "ticks": ""
           }
          },
          "colorscale": {
           "diverging": [
            [
             0,
             "#8e0152"
            ],
            [
             0.1,
             "#c51b7d"
            ],
            [
             0.2,
             "#de77ae"
            ],
            [
             0.3,
             "#f1b6da"
            ],
            [
             0.4,
             "#fde0ef"
            ],
            [
             0.5,
             "#f7f7f7"
            ],
            [
             0.6,
             "#e6f5d0"
            ],
            [
             0.7,
             "#b8e186"
            ],
            [
             0.8,
             "#7fbc41"
            ],
            [
             0.9,
             "#4d9221"
            ],
            [
             1,
             "#276419"
            ]
           ],
           "sequential": [
            [
             0,
             "#0d0887"
            ],
            [
             0.1111111111111111,
             "#46039f"
            ],
            [
             0.2222222222222222,
             "#7201a8"
            ],
            [
             0.3333333333333333,
             "#9c179e"
            ],
            [
             0.4444444444444444,
             "#bd3786"
            ],
            [
             0.5555555555555556,
             "#d8576b"
            ],
            [
             0.6666666666666666,
             "#ed7953"
            ],
            [
             0.7777777777777778,
             "#fb9f3a"
            ],
            [
             0.8888888888888888,
             "#fdca26"
            ],
            [
             1,
             "#f0f921"
            ]
           ],
           "sequentialminus": [
            [
             0,
             "#0d0887"
            ],
            [
             0.1111111111111111,
             "#46039f"
            ],
            [
             0.2222222222222222,
             "#7201a8"
            ],
            [
             0.3333333333333333,
             "#9c179e"
            ],
            [
             0.4444444444444444,
             "#bd3786"
            ],
            [
             0.5555555555555556,
             "#d8576b"
            ],
            [
             0.6666666666666666,
             "#ed7953"
            ],
            [
             0.7777777777777778,
             "#fb9f3a"
            ],
            [
             0.8888888888888888,
             "#fdca26"
            ],
            [
             1,
             "#f0f921"
            ]
           ]
          },
          "colorway": [
           "#636efa",
           "#EF553B",
           "#00cc96",
           "#ab63fa",
           "#FFA15A",
           "#19d3f3",
           "#FF6692",
           "#B6E880",
           "#FF97FF",
           "#FECB52"
          ],
          "font": {
           "color": "#2a3f5f"
          },
          "geo": {
           "bgcolor": "white",
           "lakecolor": "white",
           "landcolor": "#E5ECF6",
           "showlakes": true,
           "showland": true,
           "subunitcolor": "white"
          },
          "hoverlabel": {
           "align": "left"
          },
          "hovermode": "closest",
          "mapbox": {
           "style": "light"
          },
          "paper_bgcolor": "white",
          "plot_bgcolor": "#E5ECF6",
          "polar": {
           "angularaxis": {
            "gridcolor": "white",
            "linecolor": "white",
            "ticks": ""
           },
           "bgcolor": "#E5ECF6",
           "radialaxis": {
            "gridcolor": "white",
            "linecolor": "white",
            "ticks": ""
           }
          },
          "scene": {
           "xaxis": {
            "backgroundcolor": "#E5ECF6",
            "gridcolor": "white",
            "gridwidth": 2,
            "linecolor": "white",
            "showbackground": true,
            "ticks": "",
            "zerolinecolor": "white"
           },
           "yaxis": {
            "backgroundcolor": "#E5ECF6",
            "gridcolor": "white",
            "gridwidth": 2,
            "linecolor": "white",
            "showbackground": true,
            "ticks": "",
            "zerolinecolor": "white"
           },
           "zaxis": {
            "backgroundcolor": "#E5ECF6",
            "gridcolor": "white",
            "gridwidth": 2,
            "linecolor": "white",
            "showbackground": true,
            "ticks": "",
            "zerolinecolor": "white"
           }
          },
          "shapedefaults": {
           "line": {
            "color": "#2a3f5f"
           }
          },
          "ternary": {
           "aaxis": {
            "gridcolor": "white",
            "linecolor": "white",
            "ticks": ""
           },
           "baxis": {
            "gridcolor": "white",
            "linecolor": "white",
            "ticks": ""
           },
           "bgcolor": "#E5ECF6",
           "caxis": {
            "gridcolor": "white",
            "linecolor": "white",
            "ticks": ""
           }
          },
          "title": {
           "x": 0.05
          },
          "xaxis": {
           "automargin": true,
           "gridcolor": "white",
           "linecolor": "white",
           "ticks": "",
           "title": {
            "standoff": 15
           },
           "zerolinecolor": "white",
           "zerolinewidth": 2
          },
          "yaxis": {
           "automargin": true,
           "gridcolor": "white",
           "linecolor": "white",
           "ticks": "",
           "title": {
            "standoff": 15
           },
           "zerolinecolor": "white",
           "zerolinewidth": 2
          }
         }
        },
        "title": {
         "x": 0.5
        },
        "xaxis": {
         "anchor": "y",
         "domain": [
          0,
          1
         ],
         "title": {
          "text": "Technology"
         }
        },
        "yaxis": {
         "anchor": "x",
         "domain": [
          0,
          1
         ],
         "title": {
          "text": "Average Curtailment (MWh / MW)"
         }
        }
       }
      }
     },
     "metadata": {},
     "output_type": "display_data"
    }
   ],
   "source": [
    "\n",
    "\n",
    "# --- Overall Normalized Curtailment (Averaged Across Extreme Scenarios) ---\n",
    " \n",
    "scenarios_to_plot_w100 = [\n",
    "    'Economic_Baseline',\n",
    "    'Sweep_ghg_w100',\n",
    "    'Sweep_biodiversity & noise_w100',\n",
    "    'Sweep_land use_w100',\n",
    "    'Sweep_grid upgrades_w100',\n",
    "    'Sweep_reliability_w100'\n",
    "]\n",
    "# Filter for only those scenarios that actually exist in the DataFrame to prevent errors.\n",
    "scenarios_in_df = [s for s in scenarios_to_plot_w100 if s in df.index]\n",
    "\n",
    "if scenarios_in_df:\n",
    "    #  technology carriers to be included in the analysis.\n",
    "    techs = {'onwind', 'offwind', 'tidal'}\n",
    "    # A dictionary to store the calculated normalized curtailment for each scenario.\n",
    "    normalized_curtailment_data = {}\n",
    "\n",
    "    # Loop through each of the selected extreme scenarios.\n",
    "    for scenario in scenarios_in_df:\n",
    "        # A temporary dictionary to hold the results for the current scenario.\n",
    "        norm_curtailment = {}\n",
    "        # Loop through each technology to calculate its normalized curtailment.\n",
    "        for tech in techs:\n",
    "            \n",
    "            # --- Find the Correct Curtailment and Capacity Columns ---\n",
    "            cur_col = f\"Curtailment_('Generator', '{tech}')_MWh\"\n",
    "            #if cur_col not in df.columns:\n",
    "                #cur_col = f\"Curtailment_('StorageUnit', '{tech}')_MWh\"\n",
    "            \n",
    "            cap_col = f\"Installed_{tech}_MW\"\n",
    "            #if cap_col not in df.columns:\n",
    "                #cap_col = f\"Fixed_Capacity_{tech}_MW\"\n",
    "\n",
    "            # --- Calculate the Normalized Value ---\n",
    "            if cur_col in df.columns and cap_col in df.columns:\n",
    "                curtailment_mwh = df.loc[scenario, cur_col]\n",
    "                capacity_mw = df.loc[scenario, cap_col]\n",
    "                \n",
    "                if capacity_mw > 0:\n",
    "                    norm_val = curtailment_mwh / capacity_mw\n",
    "                else:\n",
    "                    norm_val = 0\n",
    "                \n",
    "                tech_label = tech.replace('_', ' ').title()\n",
    "                norm_curtailment[tech_label] = norm_val\n",
    "        \n",
    "        normalized_curtailment_data[scenario] = norm_curtailment\n",
    "\n",
    "    # Convert the dictionary of results into a pandas DataFrame for easy analysis.\n",
    "    plot_df = pd.DataFrame(normalized_curtailment_data).T\n",
    "\n",
    "    # --- Generate the Final Interactive Plot ---\n",
    "    if not plot_df.empty:\n",
    "        # Calculate the average (mean) normalized curtailment for each technology.\n",
    "        overall_avg = plot_df.mean()\n",
    "        # Sort the results in descending order for a more readable bar chart.\n",
    "        overall_avg.sort_values(ascending=False, inplace=True)\n",
    "        \n",
    "        # --- Create the interactive bar chart with Plotly Express ---\n",
    "        fig = px.bar(\n",
    "            x=overall_avg.index,\n",
    "            y=overall_avg.values,\n",
    "            labels={\n",
    "                'x': 'Technology',\n",
    "                'y': 'Average Curtailment per Unit of Capacity (MWh / MW)'\n",
    "            },\n",
    "            #title='Overall Normalized Curtailment (Averaged Across Extreme Scenarios)'\n",
    "        )\n",
    "        \n",
    "        # Update layout for a cleaner look\n",
    "        fig.update_layout(\n",
    "            xaxis_title='Technology',\n",
    "            yaxis_title='Average Curtailment (MWh / MW)',\n",
    "            title_x=0.5 # Center the title\n",
    "        )\n",
    "        \n",
    "        # Show the interactive plot\n",
    "        fig.show()\n",
    "        \n",
    "    else:\n",
    "        print(\"Could not generate normalized curtailment data. Check column names.\")\n",
    "else:\n",
    "    print(\"None of the specified scenarios were found in the DataFrame to average.\")\n"
   ]
  },
  {
   "cell_type": "markdown",
   "id": "626b46b6",
   "metadata": {},
   "source": [
    "The below script performs a detailed analysis of the different power system scenarios by comparing them against each other. It calculates the change in key metrics like economic cost, renewable generation, grid capacity, and storage capacity between scenarios. The analysis is broken down into three parts:\n",
    "\n",
    "Part 1: Policy vs. Baseline: Compares each policy-driven scenario to the economic baseline scenario to show the cost and infrastructure trade-offs.\n",
    "\n",
    "Part 2: Policy vs. Policy: Compares every policy scenario against every other policy scenario to highlight how different policy choices affect the system relative to each other.\n",
    "\n",
    "Part 3: Incremental Analysis: Examines the changes within each individual policy sweep (e.g., from a 0% penalty to a 50% penalty, and then from a 50% to a 100% penalty) to show the effect of increasing policy stringency."
   ]
  },
  {
   "cell_type": "code",
   "execution_count": null,
   "id": "c5e6b4ad",
   "metadata": {},
   "outputs": [
    {
     "name": "stdout",
     "output_type": "stream",
     "text": [
      "\n",
      "\n",
      "--- Analysis Results: Part 1 (Policy vs. Economic Baseline) ---\n"
     ]
    },
    {
     "data": {
      "text/html": [
       "<div>\n",
       "<style scoped>\n",
       "    .dataframe tbody tr th:only-of-type {\n",
       "        vertical-align: middle;\n",
       "    }\n",
       "\n",
       "    .dataframe tbody tr th {\n",
       "        vertical-align: top;\n",
       "    }\n",
       "\n",
       "    .dataframe thead th {\n",
       "        text-align: right;\n",
       "    }\n",
       "</style>\n",
       "<table border=\"1\" class=\"dataframe\">\n",
       "  <thead>\n",
       "    <tr style=\"text-align: right;\">\n",
       "      <th></th>\n",
       "      <th>Reference_Scenario</th>\n",
       "      <th>Policy_Scenario</th>\n",
       "      <th>Cost_Delta_Billions_GBP</th>\n",
       "      <th>Curtailment_Delta_TWh</th>\n",
       "      <th>Grid_Delta_GW</th>\n",
       "      <th>Storage_Delta_GW</th>\n",
       "      <th>Onshore_Wind_Delta_GW</th>\n",
       "      <th>Offshore_Wind_Delta_GW</th>\n",
       "      <th>Tidal_Delta_GW</th>\n",
       "    </tr>\n",
       "  </thead>\n",
       "  <tbody>\n",
       "    <tr>\n",
       "      <th>0</th>\n",
       "      <td>Economic_Baseline</td>\n",
       "      <td>Sweep_ghg_w100</td>\n",
       "      <td>2.138602</td>\n",
       "      <td>35.923655</td>\n",
       "      <td>34.437479</td>\n",
       "      <td>-7.176642</td>\n",
       "      <td>137.781254</td>\n",
       "      <td>-70.993572</td>\n",
       "      <td>0.000000</td>\n",
       "    </tr>\n",
       "    <tr>\n",
       "      <th>1</th>\n",
       "      <td>Economic_Baseline</td>\n",
       "      <td>Sweep_biodiversity &amp; noise_w100</td>\n",
       "      <td>15.095666</td>\n",
       "      <td>4792.655686</td>\n",
       "      <td>-61.850003</td>\n",
       "      <td>552.547236</td>\n",
       "      <td>-37.627887</td>\n",
       "      <td>16.830304</td>\n",
       "      <td>0.000000</td>\n",
       "    </tr>\n",
       "    <tr>\n",
       "      <th>2</th>\n",
       "      <td>Economic_Baseline</td>\n",
       "      <td>Sweep_land use_w100</td>\n",
       "      <td>14.492235</td>\n",
       "      <td>3154.249551</td>\n",
       "      <td>-59.327477</td>\n",
       "      <td>364.712149</td>\n",
       "      <td>-98.892680</td>\n",
       "      <td>55.631577</td>\n",
       "      <td>23.587471</td>\n",
       "    </tr>\n",
       "    <tr>\n",
       "      <th>3</th>\n",
       "      <td>Economic_Baseline</td>\n",
       "      <td>Sweep_grid upgrades_w100</td>\n",
       "      <td>35.533802</td>\n",
       "      <td>7927.899069</td>\n",
       "      <td>-50.489374</td>\n",
       "      <td>929.524002</td>\n",
       "      <td>-20.131263</td>\n",
       "      <td>-61.519106</td>\n",
       "      <td>33.047739</td>\n",
       "    </tr>\n",
       "    <tr>\n",
       "      <th>4</th>\n",
       "      <td>Economic_Baseline</td>\n",
       "      <td>Sweep_reliability_w100</td>\n",
       "      <td>46.018349</td>\n",
       "      <td>1061.590891</td>\n",
       "      <td>92.620679</td>\n",
       "      <td>153.720154</td>\n",
       "      <td>-98.892680</td>\n",
       "      <td>-70.457874</td>\n",
       "      <td>94.414584</td>\n",
       "    </tr>\n",
       "  </tbody>\n",
       "</table>\n",
       "</div>"
      ],
      "text/plain": [
       "  Reference_Scenario                  Policy_Scenario  \\\n",
       "0  Economic_Baseline                   Sweep_ghg_w100   \n",
       "1  Economic_Baseline  Sweep_biodiversity & noise_w100   \n",
       "2  Economic_Baseline              Sweep_land use_w100   \n",
       "3  Economic_Baseline         Sweep_grid upgrades_w100   \n",
       "4  Economic_Baseline           Sweep_reliability_w100   \n",
       "\n",
       "   Cost_Delta_Billions_GBP  Curtailment_Delta_TWh  Grid_Delta_GW  \\\n",
       "0                 2.138602              35.923655      34.437479   \n",
       "1                15.095666            4792.655686     -61.850003   \n",
       "2                14.492235            3154.249551     -59.327477   \n",
       "3                35.533802            7927.899069     -50.489374   \n",
       "4                46.018349            1061.590891      92.620679   \n",
       "\n",
       "   Storage_Delta_GW  Onshore_Wind_Delta_GW  Offshore_Wind_Delta_GW  \\\n",
       "0         -7.176642             137.781254              -70.993572   \n",
       "1        552.547236             -37.627887               16.830304   \n",
       "2        364.712149             -98.892680               55.631577   \n",
       "3        929.524002             -20.131263              -61.519106   \n",
       "4        153.720154             -98.892680              -70.457874   \n",
       "\n",
       "   Tidal_Delta_GW  \n",
       "0        0.000000  \n",
       "1        0.000000  \n",
       "2       23.587471  \n",
       "3       33.047739  \n",
       "4       94.414584  "
      ]
     },
     "metadata": {},
     "output_type": "display_data"
    },
    {
     "name": "stdout",
     "output_type": "stream",
     "text": [
      "\n",
      "\n",
      "--- Analysis Results: Part 2 (Policy vs. Policy) ---\n"
     ]
    },
    {
     "data": {
      "text/html": [
       "<div>\n",
       "<style scoped>\n",
       "    .dataframe tbody tr th:only-of-type {\n",
       "        vertical-align: middle;\n",
       "    }\n",
       "\n",
       "    .dataframe tbody tr th {\n",
       "        vertical-align: top;\n",
       "    }\n",
       "\n",
       "    .dataframe thead th {\n",
       "        text-align: right;\n",
       "    }\n",
       "</style>\n",
       "<table border=\"1\" class=\"dataframe\">\n",
       "  <thead>\n",
       "    <tr style=\"text-align: right;\">\n",
       "      <th></th>\n",
       "      <th>Reference_Scenario</th>\n",
       "      <th>Policy_Scenario</th>\n",
       "      <th>Cost_Delta_Billions_GBP</th>\n",
       "      <th>Curtailment_Delta_TWh</th>\n",
       "      <th>Grid_Delta_GW</th>\n",
       "      <th>Storage_Delta_GW</th>\n",
       "      <th>Onshore_Wind_Delta_GW</th>\n",
       "      <th>Offshore_Wind_Delta_GW</th>\n",
       "      <th>Tidal_Delta_GW</th>\n",
       "    </tr>\n",
       "  </thead>\n",
       "  <tbody>\n",
       "    <tr>\n",
       "      <th>0</th>\n",
       "      <td>Sweep_ghg_w100</td>\n",
       "      <td>Sweep_biodiversity &amp; noise_w100</td>\n",
       "      <td>12.957063</td>\n",
       "      <td>4756.732031</td>\n",
       "      <td>-96.287482</td>\n",
       "      <td>559.723877</td>\n",
       "      <td>-175.409141</td>\n",
       "      <td>87.823876</td>\n",
       "      <td>0.000000</td>\n",
       "    </tr>\n",
       "    <tr>\n",
       "      <th>1</th>\n",
       "      <td>Sweep_ghg_w100</td>\n",
       "      <td>Sweep_land use_w100</td>\n",
       "      <td>12.353632</td>\n",
       "      <td>3118.325896</td>\n",
       "      <td>-93.764956</td>\n",
       "      <td>371.888790</td>\n",
       "      <td>-236.673934</td>\n",
       "      <td>126.625149</td>\n",
       "      <td>23.587471</td>\n",
       "    </tr>\n",
       "    <tr>\n",
       "      <th>2</th>\n",
       "      <td>Sweep_ghg_w100</td>\n",
       "      <td>Sweep_grid upgrades_w100</td>\n",
       "      <td>33.395199</td>\n",
       "      <td>7891.975414</td>\n",
       "      <td>-84.926852</td>\n",
       "      <td>936.700644</td>\n",
       "      <td>-157.912516</td>\n",
       "      <td>9.474466</td>\n",
       "      <td>33.047739</td>\n",
       "    </tr>\n",
       "    <tr>\n",
       "      <th>3</th>\n",
       "      <td>Sweep_ghg_w100</td>\n",
       "      <td>Sweep_reliability_w100</td>\n",
       "      <td>43.879747</td>\n",
       "      <td>1025.667236</td>\n",
       "      <td>58.183200</td>\n",
       "      <td>160.896796</td>\n",
       "      <td>-236.673934</td>\n",
       "      <td>0.535698</td>\n",
       "      <td>94.414584</td>\n",
       "    </tr>\n",
       "    <tr>\n",
       "      <th>4</th>\n",
       "      <td>Sweep_biodiversity &amp; noise_w100</td>\n",
       "      <td>Sweep_land use_w100</td>\n",
       "      <td>-0.603431</td>\n",
       "      <td>-1638.406134</td>\n",
       "      <td>2.522526</td>\n",
       "      <td>-187.835087</td>\n",
       "      <td>-61.264793</td>\n",
       "      <td>38.801273</td>\n",
       "      <td>23.587471</td>\n",
       "    </tr>\n",
       "    <tr>\n",
       "      <th>5</th>\n",
       "      <td>Sweep_biodiversity &amp; noise_w100</td>\n",
       "      <td>Sweep_grid upgrades_w100</td>\n",
       "      <td>20.438136</td>\n",
       "      <td>3135.243383</td>\n",
       "      <td>11.360629</td>\n",
       "      <td>376.976766</td>\n",
       "      <td>17.496624</td>\n",
       "      <td>-78.349409</td>\n",
       "      <td>33.047739</td>\n",
       "    </tr>\n",
       "    <tr>\n",
       "      <th>6</th>\n",
       "      <td>Sweep_biodiversity &amp; noise_w100</td>\n",
       "      <td>Sweep_reliability_w100</td>\n",
       "      <td>30.922684</td>\n",
       "      <td>-3731.064795</td>\n",
       "      <td>154.470682</td>\n",
       "      <td>-398.827082</td>\n",
       "      <td>-61.264793</td>\n",
       "      <td>-87.288178</td>\n",
       "      <td>94.414584</td>\n",
       "    </tr>\n",
       "    <tr>\n",
       "      <th>7</th>\n",
       "      <td>Sweep_land use_w100</td>\n",
       "      <td>Sweep_grid upgrades_w100</td>\n",
       "      <td>21.041567</td>\n",
       "      <td>4773.649518</td>\n",
       "      <td>8.838104</td>\n",
       "      <td>564.811853</td>\n",
       "      <td>78.761418</td>\n",
       "      <td>-117.150683</td>\n",
       "      <td>9.460268</td>\n",
       "    </tr>\n",
       "    <tr>\n",
       "      <th>8</th>\n",
       "      <td>Sweep_land use_w100</td>\n",
       "      <td>Sweep_reliability_w100</td>\n",
       "      <td>31.526115</td>\n",
       "      <td>-2092.658660</td>\n",
       "      <td>151.948157</td>\n",
       "      <td>-210.991995</td>\n",
       "      <td>0.000000</td>\n",
       "      <td>-126.089451</td>\n",
       "      <td>70.827113</td>\n",
       "    </tr>\n",
       "    <tr>\n",
       "      <th>9</th>\n",
       "      <td>Sweep_grid upgrades_w100</td>\n",
       "      <td>Sweep_reliability_w100</td>\n",
       "      <td>10.484548</td>\n",
       "      <td>-6866.308178</td>\n",
       "      <td>143.110053</td>\n",
       "      <td>-775.803848</td>\n",
       "      <td>-78.761418</td>\n",
       "      <td>-8.938768</td>\n",
       "      <td>61.366845</td>\n",
       "    </tr>\n",
       "  </tbody>\n",
       "</table>\n",
       "</div>"
      ],
      "text/plain": [
       "                Reference_Scenario                  Policy_Scenario  \\\n",
       "0                   Sweep_ghg_w100  Sweep_biodiversity & noise_w100   \n",
       "1                   Sweep_ghg_w100              Sweep_land use_w100   \n",
       "2                   Sweep_ghg_w100         Sweep_grid upgrades_w100   \n",
       "3                   Sweep_ghg_w100           Sweep_reliability_w100   \n",
       "4  Sweep_biodiversity & noise_w100              Sweep_land use_w100   \n",
       "5  Sweep_biodiversity & noise_w100         Sweep_grid upgrades_w100   \n",
       "6  Sweep_biodiversity & noise_w100           Sweep_reliability_w100   \n",
       "7              Sweep_land use_w100         Sweep_grid upgrades_w100   \n",
       "8              Sweep_land use_w100           Sweep_reliability_w100   \n",
       "9         Sweep_grid upgrades_w100           Sweep_reliability_w100   \n",
       "\n",
       "   Cost_Delta_Billions_GBP  Curtailment_Delta_TWh  Grid_Delta_GW  \\\n",
       "0                12.957063            4756.732031     -96.287482   \n",
       "1                12.353632            3118.325896     -93.764956   \n",
       "2                33.395199            7891.975414     -84.926852   \n",
       "3                43.879747            1025.667236      58.183200   \n",
       "4                -0.603431           -1638.406134       2.522526   \n",
       "5                20.438136            3135.243383      11.360629   \n",
       "6                30.922684           -3731.064795     154.470682   \n",
       "7                21.041567            4773.649518       8.838104   \n",
       "8                31.526115           -2092.658660     151.948157   \n",
       "9                10.484548           -6866.308178     143.110053   \n",
       "\n",
       "   Storage_Delta_GW  Onshore_Wind_Delta_GW  Offshore_Wind_Delta_GW  \\\n",
       "0        559.723877            -175.409141               87.823876   \n",
       "1        371.888790            -236.673934              126.625149   \n",
       "2        936.700644            -157.912516                9.474466   \n",
       "3        160.896796            -236.673934                0.535698   \n",
       "4       -187.835087             -61.264793               38.801273   \n",
       "5        376.976766              17.496624              -78.349409   \n",
       "6       -398.827082             -61.264793              -87.288178   \n",
       "7        564.811853              78.761418             -117.150683   \n",
       "8       -210.991995               0.000000             -126.089451   \n",
       "9       -775.803848             -78.761418               -8.938768   \n",
       "\n",
       "   Tidal_Delta_GW  \n",
       "0        0.000000  \n",
       "1       23.587471  \n",
       "2       33.047739  \n",
       "3       94.414584  \n",
       "4       23.587471  \n",
       "5       33.047739  \n",
       "6       94.414584  \n",
       "7        9.460268  \n",
       "8       70.827113  \n",
       "9       61.366845  "
      ]
     },
     "metadata": {},
     "output_type": "display_data"
    },
    {
     "name": "stdout",
     "output_type": "stream",
     "text": [
      "\n",
      "\n",
      "--- Analysis Results: Part 3 (Incremental Changes) ---\n"
     ]
    },
    {
     "data": {
      "text/html": [
       "<div>\n",
       "<style scoped>\n",
       "    .dataframe tbody tr th:only-of-type {\n",
       "        vertical-align: middle;\n",
       "    }\n",
       "\n",
       "    .dataframe tbody tr th {\n",
       "        vertical-align: top;\n",
       "    }\n",
       "\n",
       "    .dataframe thead th {\n",
       "        text-align: right;\n",
       "    }\n",
       "</style>\n",
       "<table border=\"1\" class=\"dataframe\">\n",
       "  <thead>\n",
       "    <tr style=\"text-align: right;\">\n",
       "      <th></th>\n",
       "      <th>Reference_Scenario</th>\n",
       "      <th>Policy_Scenario</th>\n",
       "      <th>Cost_Delta_Billions_GBP</th>\n",
       "      <th>Curtailment_Delta_TWh</th>\n",
       "      <th>Grid_Delta_GW</th>\n",
       "      <th>Storage_Delta_GW</th>\n",
       "      <th>Onshore_Wind_Delta_GW</th>\n",
       "      <th>Offshore_Wind_Delta_GW</th>\n",
       "      <th>Tidal_Delta_GW</th>\n",
       "    </tr>\n",
       "  </thead>\n",
       "  <tbody>\n",
       "    <tr>\n",
       "      <th>0</th>\n",
       "      <td>Sweep_ghg_w0</td>\n",
       "      <td>Sweep_ghg_w50</td>\n",
       "      <td>-19.704703</td>\n",
       "      <td>-5230.558579</td>\n",
       "      <td>107.957452</td>\n",
       "      <td>-616.509390</td>\n",
       "      <td>41.716106</td>\n",
       "      <td>21.499999</td>\n",
       "      <td>-19.433224</td>\n",
       "    </tr>\n",
       "    <tr>\n",
       "      <th>1</th>\n",
       "      <td>Sweep_ghg_w50</td>\n",
       "      <td>Sweep_ghg_w100</td>\n",
       "      <td>1.888820</td>\n",
       "      <td>64.470231</td>\n",
       "      <td>33.961716</td>\n",
       "      <td>-3.301995</td>\n",
       "      <td>190.450136</td>\n",
       "      <td>-113.266766</td>\n",
       "      <td>0.000000</td>\n",
       "    </tr>\n",
       "    <tr>\n",
       "      <th>2</th>\n",
       "      <td>Sweep_biodiversity &amp; noise_w0</td>\n",
       "      <td>Sweep_biodiversity &amp; noise_w50</td>\n",
       "      <td>3.756600</td>\n",
       "      <td>2341.123348</td>\n",
       "      <td>-33.691232</td>\n",
       "      <td>256.259118</td>\n",
       "      <td>4.370662</td>\n",
       "      <td>40.031838</td>\n",
       "      <td>-25.438402</td>\n",
       "    </tr>\n",
       "    <tr>\n",
       "      <th>3</th>\n",
       "      <td>Sweep_biodiversity &amp; noise_w50</td>\n",
       "      <td>Sweep_biodiversity &amp; noise_w100</td>\n",
       "      <td>2.023567</td>\n",
       "      <td>497.427926</td>\n",
       "      <td>48.252873</td>\n",
       "      <td>55.844101</td>\n",
       "      <td>45.869021</td>\n",
       "      <td>-37.799981</td>\n",
       "      <td>0.000000</td>\n",
       "    </tr>\n",
       "    <tr>\n",
       "      <th>4</th>\n",
       "      <td>Sweep_land use_w0</td>\n",
       "      <td>Sweep_land use_w50</td>\n",
       "      <td>12.865783</td>\n",
       "      <td>4195.950545</td>\n",
       "      <td>-93.848081</td>\n",
       "      <td>478.044875</td>\n",
       "      <td>-75.154626</td>\n",
       "      <td>65.101058</td>\n",
       "      <td>0.488120</td>\n",
       "    </tr>\n",
       "    <tr>\n",
       "      <th>5</th>\n",
       "      <td>Sweep_land use_w50</td>\n",
       "      <td>Sweep_land use_w100</td>\n",
       "      <td>0.071564</td>\n",
       "      <td>-1182.046826</td>\n",
       "      <td>34.329046</td>\n",
       "      <td>-138.632944</td>\n",
       "      <td>0.000000</td>\n",
       "      <td>-2.650944</td>\n",
       "      <td>18.605159</td>\n",
       "    </tr>\n",
       "    <tr>\n",
       "      <th>6</th>\n",
       "      <td>Sweep_grid upgrades_w0</td>\n",
       "      <td>Sweep_grid upgrades_w50</td>\n",
       "      <td>5.812631</td>\n",
       "      <td>906.190743</td>\n",
       "      <td>5.933647</td>\n",
       "      <td>116.097655</td>\n",
       "      <td>26.203806</td>\n",
       "      <td>-65.104168</td>\n",
       "      <td>18.731028</td>\n",
       "    </tr>\n",
       "    <tr>\n",
       "      <th>7</th>\n",
       "      <td>Sweep_grid upgrades_w50</td>\n",
       "      <td>Sweep_grid upgrades_w100</td>\n",
       "      <td>16.201877</td>\n",
       "      <td>2766.201945</td>\n",
       "      <td>47.307134</td>\n",
       "      <td>321.634501</td>\n",
       "      <td>52.557611</td>\n",
       "      <td>-65.514793</td>\n",
       "      <td>14.119001</td>\n",
       "    </tr>\n",
       "    <tr>\n",
       "      <th>8</th>\n",
       "      <td>Sweep_reliability_w0</td>\n",
       "      <td>Sweep_reliability_w50</td>\n",
       "      <td>-2.760048</td>\n",
       "      <td>-2650.085888</td>\n",
       "      <td>52.752003</td>\n",
       "      <td>-287.572977</td>\n",
       "      <td>-3.742247</td>\n",
       "      <td>-53.721336</td>\n",
       "      <td>29.325233</td>\n",
       "    </tr>\n",
       "    <tr>\n",
       "      <th>9</th>\n",
       "      <td>Sweep_reliability_w50</td>\n",
       "      <td>Sweep_reliability_w100</td>\n",
       "      <td>35.686176</td>\n",
       "      <td>-574.791693</td>\n",
       "      <td>147.371139</td>\n",
       "      <td>-54.454020</td>\n",
       "      <td>-11.025110</td>\n",
       "      <td>-71.679480</td>\n",
       "      <td>64.933277</td>\n",
       "    </tr>\n",
       "  </tbody>\n",
       "</table>\n",
       "</div>"
      ],
      "text/plain": [
       "               Reference_Scenario                  Policy_Scenario  \\\n",
       "0                    Sweep_ghg_w0                    Sweep_ghg_w50   \n",
       "1                   Sweep_ghg_w50                   Sweep_ghg_w100   \n",
       "2   Sweep_biodiversity & noise_w0   Sweep_biodiversity & noise_w50   \n",
       "3  Sweep_biodiversity & noise_w50  Sweep_biodiversity & noise_w100   \n",
       "4               Sweep_land use_w0               Sweep_land use_w50   \n",
       "5              Sweep_land use_w50              Sweep_land use_w100   \n",
       "6          Sweep_grid upgrades_w0          Sweep_grid upgrades_w50   \n",
       "7         Sweep_grid upgrades_w50         Sweep_grid upgrades_w100   \n",
       "8            Sweep_reliability_w0            Sweep_reliability_w50   \n",
       "9           Sweep_reliability_w50           Sweep_reliability_w100   \n",
       "\n",
       "   Cost_Delta_Billions_GBP  Curtailment_Delta_TWh  Grid_Delta_GW  \\\n",
       "0               -19.704703           -5230.558579     107.957452   \n",
       "1                 1.888820              64.470231      33.961716   \n",
       "2                 3.756600            2341.123348     -33.691232   \n",
       "3                 2.023567             497.427926      48.252873   \n",
       "4                12.865783            4195.950545     -93.848081   \n",
       "5                 0.071564           -1182.046826      34.329046   \n",
       "6                 5.812631             906.190743       5.933647   \n",
       "7                16.201877            2766.201945      47.307134   \n",
       "8                -2.760048           -2650.085888      52.752003   \n",
       "9                35.686176            -574.791693     147.371139   \n",
       "\n",
       "   Storage_Delta_GW  Onshore_Wind_Delta_GW  Offshore_Wind_Delta_GW  \\\n",
       "0       -616.509390              41.716106               21.499999   \n",
       "1         -3.301995             190.450136             -113.266766   \n",
       "2        256.259118               4.370662               40.031838   \n",
       "3         55.844101              45.869021              -37.799981   \n",
       "4        478.044875             -75.154626               65.101058   \n",
       "5       -138.632944               0.000000               -2.650944   \n",
       "6        116.097655              26.203806              -65.104168   \n",
       "7        321.634501              52.557611              -65.514793   \n",
       "8       -287.572977              -3.742247              -53.721336   \n",
       "9        -54.454020             -11.025110              -71.679480   \n",
       "\n",
       "   Tidal_Delta_GW  \n",
       "0      -19.433224  \n",
       "1        0.000000  \n",
       "2      -25.438402  \n",
       "3        0.000000  \n",
       "4        0.488120  \n",
       "5       18.605159  \n",
       "6       18.731028  \n",
       "7       14.119001  \n",
       "8       29.325233  \n",
       "9       64.933277  "
      ]
     },
     "metadata": {},
     "output_type": "display_data"
    }
   ],
   "source": [
    "\n",
    "\n",
    "# ---  Analysis Function ---\n",
    "def get_policy_shift_data(reference_name, policy_name, reference_scenario, policy_scenario):\n",
    "    \"\"\"\n",
    "    Compares two scenarios and returns a dictionary of the calculated differences,\n",
    "    with an explicit breakdown between grid and storage infrastructure.\n",
    "    \"\"\"\n",
    "    ref = reference_scenario\n",
    "    pol = policy_scenario\n",
    "    \n",
    "    # --- Calculate the differences in key metrics ---\n",
    "    cost_delta = pol['Economic_System_Cost_GBP'] - ref['Economic_System_Cost_GBP']\n",
    "    curtailment_delta = pol['Total_Curtailment_MWh'] - ref['Total_Curtailment_MWh']\n",
    "    \n",
    "    # --- Explicitly separate Grid and Storage infrastructure ---\n",
    "    \n",
    "    # Calculate the change in Grid (AC Links) capacity\n",
    "    ref_grid_gw = ref.get('Installed_AC_MW', 0) / 1e3\n",
    "    pol_grid_gw = pol.get('Installed_AC_MW', 0) / 1e3\n",
    "    grid_delta_gw = pol_grid_gw - ref_grid_gw\n",
    "    \n",
    "    # Calculate the change in total Storage and Flexibility capacity\n",
    "    ref_storage_gw = (ref.get('Installed_battery_MW', 0) + \n",
    "                      ref.get('Installed_hydroelectric_ph_MW', 0) + \n",
    "                      ref.get('Fixed_Capacity_DSR_MW', 0)) / 1e3\n",
    "                      \n",
    "    pol_storage_gw = (pol.get('Installed_battery_MW', 0) + \n",
    "                      pol.get('Installed_hydroelectric_ph_MW', 0) + \n",
    "                      pol.get('Fixed_Capacity_DSR_MW', 0)) / 1e3\n",
    "                      \n",
    "    storage_delta_gw = pol_storage_gw - ref_storage_gw\n",
    "\n",
    "    # --- Calculate the change in installed renewable generation capacity ---\n",
    "    onshore_wind_delta = pol.get('Installed_onwind_MW', 0) - ref.get('Installed_onwind_MW', 0)\n",
    "    offshore_wind_delta = pol.get('Installed_offwind_MW', 0) - ref.get('Installed_offwind_MW', 0)\n",
    "    tidal_delta = pol.get('Installed_tidal_MW', 0) - ref.get('Installed_tidal_MW', 0)\n",
    "\n",
    "    # --- Return all calculated deltas in a dictionary ---\n",
    "    return {\n",
    "        'Reference_Scenario': reference_name,\n",
    "        'Policy_Scenario': policy_name,\n",
    "        'Cost_Delta_Billions_GBP': cost_delta / 1e9,\n",
    "        'Curtailment_Delta_TWh': curtailment_delta / 1e6,\n",
    "        'Grid_Delta_GW': grid_delta_gw,\n",
    "        'Storage_Delta_GW': storage_delta_gw,\n",
    "        'Onshore_Wind_Delta_GW': onshore_wind_delta / 1e3,\n",
    "        'Offshore_Wind_Delta_GW': offshore_wind_delta / 1e3,\n",
    "        'Tidal_Delta_GW': tidal_delta / 1e3\n",
    "    }\n",
    "\n",
    "# --- Initialize empty lists to store the results from each part ---\n",
    "part1_results_list = []\n",
    "part2_results_list = []\n",
    "part3_results_list = []\n",
    "\n",
    "# --- Perform the Full Analysis and Store Results ---\n",
    "try:\n",
    "    # --- PART 1: Compare all policies to the Economic Baseline ---\n",
    "    scenarios_to_analyze = [s for s in ['Sweep_ghg_w100', 'Sweep_biodiversity & noise_w100', 'Sweep_land use_w100', 'Sweep_grid upgrades_w100', 'Sweep_reliability_w100'] if s in df.index]\n",
    "    baseline_scenario = df.loc['Economic_Baseline']\n",
    "    for scenario_name in scenarios_to_analyze:\n",
    "        policy_scenario = df.loc[scenario_name]\n",
    "        data = get_policy_shift_data(\"Economic_Baseline\", scenario_name, baseline_scenario, policy_scenario)\n",
    "        part1_results_list.append(data)\n",
    "\n",
    "    # --- PART 2: Compare every policy against every other policy ---\n",
    "    scenario_pairs = list(combinations(scenarios_to_analyze, 2))\n",
    "    for ref_scenario_name, policy_scenario_name in scenario_pairs:\n",
    "        ref_scenario = df.loc[ref_scenario_name]\n",
    "        policy_scenario = df.loc[policy_scenario_name]\n",
    "        data = get_policy_shift_data(ref_scenario_name, policy_scenario_name, ref_scenario, policy_scenario)\n",
    "        part2_results_list.append(data)\n",
    "\n",
    "    # --- PART 3: Incremental Analysis Within Each Policy Sweep ---\n",
    "    policy_sweeps = ['Sweep_ghg', 'Sweep_biodiversity & noise', 'Sweep_land use', 'Sweep_grid upgrades', 'Sweep_reliability']\n",
    "    scenarios_by_weight = {0: '{}_w0', 50: '{}_w50', 100: '{}_w100'}\n",
    "    \n",
    "    for sweep_base_name in policy_sweeps:\n",
    "        # --- 0% to 50% ---\n",
    "        ref_name_50 = scenarios_by_weight[0].format(sweep_base_name)\n",
    "        pol_name_50 = scenarios_by_weight[50].format(sweep_base_name)\n",
    "        if ref_name_50 in df.index and pol_name_50 in df.index:\n",
    "            data = get_policy_shift_data(ref_name_50, pol_name_50, df.loc[ref_name_50], df.loc[pol_name_50])\n",
    "            part3_results_list.append(data)\n",
    "            \n",
    "        # --- 50% to 100% ---\n",
    "        ref_name_100 = scenarios_by_weight[50].format(sweep_base_name)\n",
    "        pol_name_100 = scenarios_by_weight[100].format(sweep_base_name)\n",
    "        if ref_name_100 in df.index and pol_name_100 in df.index:\n",
    "            data = get_policy_shift_data(ref_name_100, pol_name_100, df.loc[ref_name_100], df.loc[pol_name_100])\n",
    "            part3_results_list.append(data)\n",
    "\n",
    "except KeyError as e:\n",
    "    print(f\"\\nError: A required scenario was not found in the results: {e}\")\n",
    "\n",
    "# --- Convert the lists of results into pandas DataFrames ---\n",
    "df_part1_analysis = pd.DataFrame(part1_results_list)\n",
    "df_part2_analysis = pd.DataFrame(part2_results_list)\n",
    "df_part3_analysis = pd.DataFrame(part3_results_list)\n",
    "\n",
    "# --- Display the results ---\n",
    "print(\"\\n\\n--- Analysis Results: Part 1 (Policy vs. Economic Baseline) ---\")\n",
    "display(df_part1_analysis)\n",
    "\n",
    "print(\"\\n\\n--- Analysis Results: Part 2 (Policy vs. Policy) ---\")\n",
    "display(df_part2_analysis)\n",
    "\n",
    "print(\"\\n\\n--- Analysis Results: Part 3 (Incremental Changes) ---\")\n",
    "display(df_part3_analysis)\n",
    "\n",
    "# --- Optional: Save the analysis results to CSV files ---\n",
    "df_part1_analysis.to_csv('analysis_part1_results.csv', index=False)\n",
    "df_part2_analysis.to_csv('analysis_part2_results.csv', index=False)\n",
    "df_part3_analysis.to_csv('analysis_part3_results.csv', index=False)\n",
    "# print(\"\\nAnalysis results saved to CSV files.\")\n"
   ]
  },
  {
   "cell_type": "markdown",
   "id": "44bf44fb",
   "metadata": {},
   "source": [
    "Plot to see the change in economic cost for different scenarios relative to the economic baseline"
   ]
  },
  {
   "cell_type": "code",
   "execution_count": 16,
   "id": "61d26233",
   "metadata": {},
   "outputs": [
    {
     "data": {
      "image/png": "[encoded data removed]",
      "text/plain": [
       "<Figure size 1000x600 with 1 Axes>"
      ]
     },
     "metadata": {},
     "output_type": "display_data"
    }
   ],
   "source": [
    "\n",
    "\n",
    "# Sort the data by cost delta in descending order\n",
    "df_plot = df_part1_analysis.sort_values(by='Cost_Delta_Billions_GBP', ascending=False).copy() \n",
    "\n",
    "# Create a mapping for more readable policy scenario names\n",
    "scenario_mapping = {\n",
    "    'Sweep_reliability_w100': 'Reliability',\n",
    "    'Sweep_grid upgrades_w100': 'Grid Upgrades',\n",
    "    'Sweep_biodiversity & noise_w100': 'Biodiversity & Noise',\n",
    "    'Sweep_land use_w100': 'Land Use',\n",
    "    'Sweep_ghg_w100': 'GHG Reduction'\n",
    "}\n",
    "\n",
    "# Apply the mapping to the 'Policy_Scenario' column\n",
    "df_plot['Policy_Scenario'] = df_plot['Policy_Scenario'].map(scenario_mapping)\n",
    "\n",
    "# --- 2. Create the Plot ---\n",
    "# Create the figure and axes objects for the plot with a specific size\n",
    "fig, ax = plt.subplots(figsize=(10, 6))\n",
    "\n",
    "# Create the bar chart\n",
    "bars = ax.bar(df_plot['Policy_Scenario'], df_plot['Cost_Delta_Billions_GBP'], color='skyblue')\n",
    "\n",
    "# Add labels to the top of each bar\n",
    "for bar in bars:\n",
    "    height = bar.get_height()\n",
    "    # Only add a label if the height is positive\n",
    "    if height > 0:\n",
    "        ax.text(\n",
    "            bar.get_x() + bar.get_width() / 2, # X-position for the text\n",
    "            height,                             # Y-position for the text (at the top of the bar)\n",
    "            f'£{height:.1f}B',                    # The text to display, formatted to one decimal place\n",
    "            ha='center',                        # Horizontal alignment: centered\n",
    "            va='bottom',                        # Vertical alignment: bottom (places text just above the bar)\n",
    "            fontsize=10\n",
    "        )\n",
    "\n",
    "# Add labels and a title to the plot\n",
    "ax.set_xlabel('Policy Scenario')\n",
    "ax.set_ylabel('Change in Cost (Billions GBP)')\n",
    "#ax.set_title('Change in Cost by Policy Scenario (relative to Economic Baseline)')\n",
    "\n",
    "# Rotate x-axis labels for better readability\n",
    "plt.xticks(rotation=45, ha='right')\n",
    "\n",
    "# Adjust layout to prevent labels from being cut off\n",
    "plt.tight_layout()\n",
    "\n",
    "# Save the updated plot as a PNG file\n",
    "plt.savefig('images/cost_delta_bar_chart_improved.png')\n",
    "\n",
    "# Display the plot\n",
    "plt.show()\n"
   ]
  },
  {
   "cell_type": "markdown",
   "id": "0b70fcc1",
   "metadata": {},
   "source": [
    "Plot to show how the storage strategy changes as the weight increases"
   ]
  },
  {
   "cell_type": "code",
   "execution_count": null,
   "id": "51dda045",
   "metadata": {},
   "outputs": [
    {
     "data": {
      "image/png": "[encoded data removed]",
      "text/plain": [
       "<Figure size 1000x600 with 1 Axes>"
      ]
     },
     "metadata": {},
     "output_type": "display_data"
    }
   ],
   "source": [
    "\n",
    "\n",
    "# Filter the dataframe for the GHG-focused scenarios\n",
    "df_ghg = df[df['sweep_variable'] == 'ghg'].copy()\n",
    "\n",
    "# Create a more readable version of the scenario names\n",
    "scenario_mapping = {\n",
    "    'Sweep_ghg_w0': 'Weight 0',\n",
    "    'Sweep_ghg_w50': 'Weight 50',\n",
    "    'Sweep_ghg_w100': 'Weight 100'\n",
    "}\n",
    "\n",
    "# Apply the mapping to the index\n",
    "df_ghg.index = df_ghg.index.map(scenario_mapping)\n",
    "\n",
    "# Convert MW to GW for better readability\n",
    "df_ghg['Installed_battery_GW'] = df_ghg['Installed_battery_MW'] / 1000\n",
    "df_ghg['Installed_hydroelectric_ph_GW'] = df_ghg['Installed_hydroelectric_ph_MW'] / 1000\n",
    "\n",
    "# plotting code\n",
    "fig, ax = plt.subplots(figsize=(10, 6))\n",
    "\n",
    "colors = ['lightgreen', 'lightpink']\n",
    "\n",
    "df_ghg[['Installed_battery_GW', 'Installed_hydroelectric_ph_GW']].plot(\n",
    "    kind='bar',\n",
    "    stacked=True,\n",
    "    ax=ax,\n",
    "    color=colors\n",
    ")\n",
    "\n",
    "ax.set_ylabel('Installed Capacity (GW)')\n",
    "ax.set_xlabel('GHG Policy Scenario')\n",
    "ax.legend(['Battery Storage', 'Pumped Hydro Storage'])\n",
    "\n",
    "for container in ax.containers:\n",
    "    for bar in container:\n",
    "        height = bar.get_height()\n",
    "        if height > 0:\n",
    "            text_color = 'white' if bar.get_facecolor()[0] > 0.5 and bar.get_facecolor()[1] < 0.5 else 'black'\n",
    "            ax.text(\n",
    "                bar.get_x() + bar.get_width() / 2,\n",
    "                bar.get_y() + height / 2,\n",
    "                f'{height:.1f}',\n",
    "                ha='center',\n",
    "                va='center',\n",
    "                color=text_color,\n",
    "                fontsize=10,\n",
    "                weight='bold'\n",
    "            )\n",
    "\n",
    "plt.xticks(rotation=0)\n",
    "plt.tight_layout()\n",
    "\n",
    "plt.savefig('images/ghg_storage_reversal_plot.png', dpi=300, bbox_inches='tight')"
   ]
  },
  {
   "cell_type": "markdown",
   "id": "1e6975ca",
   "metadata": {},
   "source": [
    "Plot to show how going from 0 to moderate (50) weight affects the economic cost ."
   ]
  },
  {
   "cell_type": "code",
   "execution_count": 19,
   "id": "71f03bcc",
   "metadata": {},
   "outputs": [
    {
     "data": {
      "image/png": "[encoded data removed]",
      "text/plain": [
       "<Figure size 1000x600 with 1 Axes>"
      ]
     },
     "metadata": {},
     "output_type": "display_data"
    }
   ],
   "source": [
    "\n",
    "\n",
    "# Filter for the transitions from 0% to 50% weighting\n",
    "# These are the rows where the Policy_Scenario ends in 'w50'\n",
    "df_ghg_transition = df_part3_analysis[df_part3_analysis['Policy_Scenario'].str.contains('w50')].copy()\n",
    "\n",
    "# Add a readable name for the policy type\n",
    "# This is done by splitting the string and taking the second element\n",
    "df_ghg_transition['Policy_Type'] = df_ghg_transition['Policy_Scenario'].str.split('_').str[1]\n",
    "# Replace the policy type names for clearer plot labels\n",
    "df_ghg_transition['Policy_Type'] = df_ghg_transition['Policy_Type'].replace({'ghg': 'GHG', 'biodiversity & noise': 'Biodiversity\\n& Noise', 'land use': 'Land Use', 'grid upgrades': 'Grid Upgrades', 'reliability': 'Reliability'})\n",
    "\n",
    "# --- Create the plot using Matplotlib ---\n",
    "# Set the style and size for better readability\n",
    "plt.style.use('seaborn-v0_8-whitegrid')\n",
    "plt.figure(figsize=(10, 6))\n",
    "\n",
    "# Define the data to plot\n",
    "policies = df_ghg_transition['Policy_Type']\n",
    "cost_deltas = df_ghg_transition['Cost_Delta_Billions_GBP']\n",
    "\n",
    "# Define the colors based on whether the cost is a reduction or increase\n",
    "colors = ['darkgreen' if delta < 0 else 'firebrick' for delta in cost_deltas]\n",
    "\n",
    "# Create the bar chart\n",
    "bars = plt.bar(policies, cost_deltas, color=colors)\n",
    "\n",
    "# Add a horizontal dashed line at y=0 for the baseline\n",
    "plt.axhline(0, color='grey', linestyle='--', linewidth=1.5)\n",
    "\n",
    "# Add titles and labels for clarity\n",
    "#plt.title('Cost Impact of Moderate Policy Implementation (0% to 50% Weighting)', fontsize=16)\n",
    "plt.xlabel('Policy Type', fontsize=12)\n",
    "plt.ylabel('Change in Total System Cost (£B)', fontsize=12)\n",
    "\n",
    "\n",
    "# Add value labels on top of each bar\n",
    "for bar in bars:\n",
    "    yval = bar.get_height()\n",
    "    plt.text(\n",
    "        bar.get_x() + bar.get_width()/2, \n",
    "        yval + np.sign(yval) * 0.5, # Position the label slightly above/below the bar\n",
    "        f'£{yval:.1f}B', \n",
    "        ha='center', \n",
    "        va='bottom' if yval >= 0 else 'top',\n",
    "        fontsize=10\n",
    "    )\n",
    "\n",
    "# Ensure the layout is tight to prevent labels from being cut off\n",
    "plt.tight_layout()\n",
    "\n",
    "# Save the plot\n",
    "plt.savefig('images/policy_cost_impact_matplotlib.png')\n",
    "\n",
    "# Display the plot\n",
    "plt.show()\n"
   ]
  }
 ],
 "metadata": {
  "kernelspec": {
   "display_name": "pypsa",
   "language": "python",
   "name": "python3"
  },
  "language_info": {
   "codemirror_mode": {
    "name": "ipython",
    "version": 3
   },
   "file_extension": ".py",
   "mimetype": "text/x-python",
   "name": "python",
   "nbconvert_exporter": "python",
   "pygments_lexer": "ipython3",
   "version": "3.9.23"
  }
 },
 "nbformat": 4,
 "nbformat_minor": 5
}
